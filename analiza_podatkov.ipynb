{
 "cells": [
  {
   "cell_type": "markdown",
   "id": "2218296f",
   "metadata": {},
   "source": [
    "# ANALIZA PODATKOV SPLETNE STRANI \"ARCHIVE OF OUR OWN\""
   ]
  },
  {
   "cell_type": "markdown",
   "id": "96c792b3",
   "metadata": {},
   "source": [
    "## Archive Of Our Own\n",
    "\n",
    "Archive Of Our Own, bolje poznana pod imenom ***AO3*** je neprofitna, nekomercialna spletna stran, ki služi kot arhiv *fanficov*. To so (ponavadi) krajše fiktivne zgodbe, ki so jih napisali ljubitelji neke knjige, filma, glasbene skupine... Zgodbe vsebujejo like, dogodke ali kraje, vzete iz izbranega področja, v angleščini imenovanega *fandom*. Angleška beseda je nastala po vzorcu besede *kingdom*, v slovenščini pa prevoda nimamo. Vseeno lahko besedo *fandom* razlagamo kot subkulturo ali skupnost, katere člani so ljubitelji iste stvari.\n",
    "\n",
    "Na spletni strani lahko uporabniki zastonj pišejo in objavljajo svoje zgodbe, prav tako pa lahko berejo, komentirajo, všečkajo... ostala objavljena dela. Ta so najprej razvrščena po različnih kategorijah kot so Knjige in literatura, Filmi in serije, Videoigre, Znane osebnosti..., nato pa še podrobneje na specifične knjige, filme, igre... Za vse zgodbe, ki ne ustrezajo nobenemu specifičnemu področju, pa je namenjena kategorija \"Uncategorised fandoms\", kjer so večinoma zbrana čisto originalna dela."
   ]
  },
  {
   "cell_type": "markdown",
   "id": "50222463",
   "metadata": {},
   "source": [
    "## Kratek opis naloge\n",
    "\n",
    "Najprej bomo analizirali število del in specifičnih *fandomov* glede na širše kategorije. Pri tem izpustimo prej omenjeno kategorijo \"Uncategorised Fandoms\", saj ne vsebuje podatkov o dejanskih področij ampak zgolj originalna dela. Nato si bomo podrobneje pogledali 1.000 najbolj priljubljenih del na temo knjžne serije Harry Potter, kar je trenutno tudi najbolj priljubljen *fandom* v kategoriji Knjige in literatura."
   ]
  },
  {
   "cell_type": "markdown",
   "id": "d1f721ab",
   "metadata": {},
   "source": [
    "## Priprava na analizo\n",
    "Preden začnemo, si pripravimo okolje."
   ]
  },
  {
   "cell_type": "code",
   "execution_count": 320,
   "id": "8a1f3867",
   "metadata": {},
   "outputs": [],
   "source": [
    "import pandas as pd\n",
    "pd.set_option('display.max_rows', 10)\n",
    "import matplotlib.pyplot as plt\n"
   ]
  },
  {
   "cell_type": "markdown",
   "id": "7c16fcb4",
   "metadata": {},
   "source": [
    "Uvozimo podatke o *fandomih* in delih o Harryju Potterju."
   ]
  },
  {
   "cell_type": "code",
   "execution_count": 321,
   "id": "a95cd3ec",
   "metadata": {},
   "outputs": [],
   "source": [
    "pot_dela='podatki/dela.csv'\n",
    "pot_fandomi='podatki/fandomi.csv'\n",
    "dela=pd.read_csv(pot_dela)\n",
    "fandomi=pd.read_csv(pot_fandomi)"
   ]
  },
  {
   "cell_type": "markdown",
   "id": "6f27003d",
   "metadata": {},
   "source": [
    "## Analiza *fandomov*"
   ]
  },
  {
   "cell_type": "markdown",
   "id": "bd8385c4",
   "metadata": {},
   "source": [
    "### Priljubljeni *fandomi* in kategorije\n",
    "Poglejmo si najprej 10 najbolj priljubljenih *fandomov*. Dober kriterij za to je število del, ki so bila objavljena za to področje."
   ]
  },
  {
   "cell_type": "code",
   "execution_count": 322,
   "id": "88de9412",
   "metadata": {},
   "outputs": [
    {
     "data": {
      "text/html": [
       "<div>\n",
       "<style scoped>\n",
       "    .dataframe tbody tr th:only-of-type {\n",
       "        vertical-align: middle;\n",
       "    }\n",
       "\n",
       "    .dataframe tbody tr th {\n",
       "        vertical-align: top;\n",
       "    }\n",
       "\n",
       "    .dataframe thead th {\n",
       "        text-align: right;\n",
       "    }\n",
       "</style>\n",
       "<table border=\"1\" class=\"dataframe\">\n",
       "  <thead>\n",
       "    <tr style=\"text-align: right;\">\n",
       "      <th></th>\n",
       "      <th>vrsta fandoma</th>\n",
       "      <th>fandom</th>\n",
       "      <th>število del</th>\n",
       "    </tr>\n",
       "  </thead>\n",
       "  <tbody>\n",
       "    <tr>\n",
       "      <th>1</th>\n",
       "      <td>Celebrities &amp; Real People</td>\n",
       "      <td>Real Person Fiction</td>\n",
       "      <td>764303</td>\n",
       "    </tr>\n",
       "    <tr>\n",
       "      <th>2</th>\n",
       "      <td>Music &amp; Bands</td>\n",
       "      <td>K-pop</td>\n",
       "      <td>709325</td>\n",
       "    </tr>\n",
       "    <tr>\n",
       "      <th>3</th>\n",
       "      <td>TV Shows</td>\n",
       "      <td>Marvel</td>\n",
       "      <td>647349</td>\n",
       "    </tr>\n",
       "    <tr>\n",
       "      <th>4</th>\n",
       "      <td>Cartoons &amp; Comics &amp; Graphic Novels</td>\n",
       "      <td>Marvel</td>\n",
       "      <td>647349</td>\n",
       "    </tr>\n",
       "    <tr>\n",
       "      <th>5</th>\n",
       "      <td>Movies</td>\n",
       "      <td>Marvel</td>\n",
       "      <td>647349</td>\n",
       "    </tr>\n",
       "    <tr>\n",
       "      <th>6</th>\n",
       "      <td>Movies</td>\n",
       "      <td>Harry Potter - J. K. Rowling</td>\n",
       "      <td>537058</td>\n",
       "    </tr>\n",
       "    <tr>\n",
       "      <th>7</th>\n",
       "      <td>Video Games</td>\n",
       "      <td>Harry Potter - J. K. Rowling</td>\n",
       "      <td>537058</td>\n",
       "    </tr>\n",
       "    <tr>\n",
       "      <th>8</th>\n",
       "      <td>Books &amp; Literature</td>\n",
       "      <td>Harry Potter - J. K. Rowling</td>\n",
       "      <td>537058</td>\n",
       "    </tr>\n",
       "    <tr>\n",
       "      <th>9</th>\n",
       "      <td>Movies</td>\n",
       "      <td>Marvel Cinematic Universe</td>\n",
       "      <td>520890</td>\n",
       "    </tr>\n",
       "    <tr>\n",
       "      <th>10</th>\n",
       "      <td>Cartoons &amp; Comics &amp; Graphic Novels</td>\n",
       "      <td>Marvel Cinematic Universe</td>\n",
       "      <td>520890</td>\n",
       "    </tr>\n",
       "  </tbody>\n",
       "</table>\n",
       "</div>"
      ],
      "text/plain": [
       "                         vrsta fandoma                        fandom  \\\n",
       "1            Celebrities & Real People           Real Person Fiction   \n",
       "2                        Music & Bands                         K-pop   \n",
       "3                             TV Shows                        Marvel   \n",
       "4   Cartoons & Comics & Graphic Novels                        Marvel   \n",
       "5                               Movies                        Marvel   \n",
       "6                               Movies  Harry Potter - J. K. Rowling   \n",
       "7                          Video Games  Harry Potter - J. K. Rowling   \n",
       "8                   Books & Literature  Harry Potter - J. K. Rowling   \n",
       "9                               Movies     Marvel Cinematic Universe   \n",
       "10  Cartoons & Comics & Graphic Novels     Marvel Cinematic Universe   \n",
       "\n",
       "    število del  \n",
       "1        764303  \n",
       "2        709325  \n",
       "3        647349  \n",
       "4        647349  \n",
       "5        647349  \n",
       "6        537058  \n",
       "7        537058  \n",
       "8        537058  \n",
       "9        520890  \n",
       "10       520890  "
      ]
     },
     "execution_count": 322,
     "metadata": {},
     "output_type": "execute_result"
    }
   ],
   "source": [
    "fandomi.sort_values(\"število del\", ascending=False, inplace=True)\n",
    "fandomi=fandomi.reset_index(drop=True)\n",
    "fandomi.index=fandomi.index+1\n",
    "naj_10=fandomi.head(10)\n",
    "naj_10"
   ]
  },
  {
   "cell_type": "markdown",
   "id": "848eba4c",
   "metadata": {},
   "source": [
    "Nekateri *fandomi* so zaradi same vsebine lahko razvrščeni pod več kategorij. Zgoraj vidimo, da se recimo Marvel pojavi kar trikrat, saj spada pod filme, serije in tudi stripe. Da bi tako širokemu pojmu določili le eno izmed teh kategorij, bi bilo ne samo krivično, temveč bi tudi v nadaljevnaju vodilo do morda ne najbolj zanesljivih rezultatov.\n",
    "\n",
    "Odstranimo *vrsto fandoma*, da dobimo boljšo predstavo o večkratnem ponavljanju *fandomov*."
   ]
  },
  {
   "cell_type": "code",
   "execution_count": 323,
   "id": "1580a3af",
   "metadata": {},
   "outputs": [
    {
     "data": {
      "text/html": [
       "<div>\n",
       "<style scoped>\n",
       "    .dataframe tbody tr th:only-of-type {\n",
       "        vertical-align: middle;\n",
       "    }\n",
       "\n",
       "    .dataframe tbody tr th {\n",
       "        vertical-align: top;\n",
       "    }\n",
       "\n",
       "    .dataframe thead th {\n",
       "        text-align: right;\n",
       "    }\n",
       "</style>\n",
       "<table border=\"1\" class=\"dataframe\">\n",
       "  <thead>\n",
       "    <tr style=\"text-align: right;\">\n",
       "      <th></th>\n",
       "      <th>fandom</th>\n",
       "      <th>število del</th>\n",
       "    </tr>\n",
       "  </thead>\n",
       "  <tbody>\n",
       "    <tr>\n",
       "      <th>1</th>\n",
       "      <td>Real Person Fiction</td>\n",
       "      <td>764303</td>\n",
       "    </tr>\n",
       "    <tr>\n",
       "      <th>2</th>\n",
       "      <td>K-pop</td>\n",
       "      <td>709325</td>\n",
       "    </tr>\n",
       "    <tr>\n",
       "      <th>3</th>\n",
       "      <td>Marvel</td>\n",
       "      <td>647349</td>\n",
       "    </tr>\n",
       "    <tr>\n",
       "      <th>4</th>\n",
       "      <td>Marvel</td>\n",
       "      <td>647349</td>\n",
       "    </tr>\n",
       "    <tr>\n",
       "      <th>5</th>\n",
       "      <td>Marvel</td>\n",
       "      <td>647349</td>\n",
       "    </tr>\n",
       "    <tr>\n",
       "      <th>6</th>\n",
       "      <td>Harry Potter - J. K. Rowling</td>\n",
       "      <td>537058</td>\n",
       "    </tr>\n",
       "    <tr>\n",
       "      <th>7</th>\n",
       "      <td>Harry Potter - J. K. Rowling</td>\n",
       "      <td>537058</td>\n",
       "    </tr>\n",
       "    <tr>\n",
       "      <th>8</th>\n",
       "      <td>Harry Potter - J. K. Rowling</td>\n",
       "      <td>537058</td>\n",
       "    </tr>\n",
       "    <tr>\n",
       "      <th>9</th>\n",
       "      <td>Marvel Cinematic Universe</td>\n",
       "      <td>520890</td>\n",
       "    </tr>\n",
       "    <tr>\n",
       "      <th>10</th>\n",
       "      <td>Marvel Cinematic Universe</td>\n",
       "      <td>520890</td>\n",
       "    </tr>\n",
       "  </tbody>\n",
       "</table>\n",
       "</div>"
      ],
      "text/plain": [
       "                          fandom  število del\n",
       "1            Real Person Fiction       764303\n",
       "2                          K-pop       709325\n",
       "3                         Marvel       647349\n",
       "4                         Marvel       647349\n",
       "5                         Marvel       647349\n",
       "6   Harry Potter - J. K. Rowling       537058\n",
       "7   Harry Potter - J. K. Rowling       537058\n",
       "8   Harry Potter - J. K. Rowling       537058\n",
       "9      Marvel Cinematic Universe       520890\n",
       "10     Marvel Cinematic Universe       520890"
      ]
     },
     "execution_count": 323,
     "metadata": {},
     "output_type": "execute_result"
    }
   ],
   "source": [
    "brez_vrste=fandomi[['fandom','število del']].copy()\n",
    "brez_vrste.head(10)"
   ]
  },
  {
   "cell_type": "markdown",
   "id": "f42af1b5",
   "metadata": {},
   "source": [
    "Vidimo, da se vsaj največja področja očitno pojavljajo v več kategorijah. To ima seveda smisel, saj jim ravno to zagotavlja večjo publiko in posledično več objvaljenih del. Kljub temu si želimo videti 10 različnih najpopularnejših področij. Da ne bomo filtrirali vseh vrstic (zanima nas le prvih nekaj podatkov), naredimo funkcijo za prvih 30 rezultatov."
   ]
  },
  {
   "cell_type": "code",
   "execution_count": 324,
   "id": "4ed7e410",
   "metadata": {},
   "outputs": [],
   "source": [
    "# pripravimo tabelo za določanje kriterija\n",
    "brez_vrste=brez_vrste.head(30).copy()\n",
    "# Funkcija bo za nov stolpec vrnila vrednost 'odstrani',\n",
    "# če se je ime fandoma že prej pojavilo v tabeli,\n",
    "# sicer v stolpec vrne 'pusti'.\n",
    "imena=set()\n",
    "def odstrani(i):\n",
    "    if i in imena:\n",
    "        return 'odstrani'\n",
    "    imena.add(i)\n",
    "    return 'pusti'\n",
    "\n",
    "brez_vrste['kriterij']=brez_vrste.apply(lambda x: odstrani(x['fandom']), axis=1)"
   ]
  },
  {
   "cell_type": "code",
   "execution_count": 325,
   "id": "0f1892ee",
   "metadata": {},
   "outputs": [
    {
     "data": {
      "text/html": [
       "<div>\n",
       "<style scoped>\n",
       "    .dataframe tbody tr th:only-of-type {\n",
       "        vertical-align: middle;\n",
       "    }\n",
       "\n",
       "    .dataframe tbody tr th {\n",
       "        vertical-align: top;\n",
       "    }\n",
       "\n",
       "    .dataframe thead th {\n",
       "        text-align: right;\n",
       "    }\n",
       "</style>\n",
       "<table border=\"1\" class=\"dataframe\">\n",
       "  <thead>\n",
       "    <tr style=\"text-align: right;\">\n",
       "      <th></th>\n",
       "      <th>fandom</th>\n",
       "      <th>število del</th>\n",
       "    </tr>\n",
       "  </thead>\n",
       "  <tbody>\n",
       "    <tr>\n",
       "      <th>1</th>\n",
       "      <td>Real Person Fiction</td>\n",
       "      <td>764303</td>\n",
       "    </tr>\n",
       "    <tr>\n",
       "      <th>2</th>\n",
       "      <td>K-pop</td>\n",
       "      <td>709325</td>\n",
       "    </tr>\n",
       "    <tr>\n",
       "      <th>3</th>\n",
       "      <td>Marvel</td>\n",
       "      <td>647349</td>\n",
       "    </tr>\n",
       "    <tr>\n",
       "      <th>4</th>\n",
       "      <td>Harry Potter - J. K. Rowling</td>\n",
       "      <td>537058</td>\n",
       "    </tr>\n",
       "    <tr>\n",
       "      <th>5</th>\n",
       "      <td>Marvel Cinematic Universe</td>\n",
       "      <td>520890</td>\n",
       "    </tr>\n",
       "    <tr>\n",
       "      <th>6</th>\n",
       "      <td>Original Work</td>\n",
       "      <td>361570</td>\n",
       "    </tr>\n",
       "    <tr>\n",
       "      <th>7</th>\n",
       "      <td>DCU</td>\n",
       "      <td>344912</td>\n",
       "    </tr>\n",
       "    <tr>\n",
       "      <th>8</th>\n",
       "      <td>僕のヒーローアカデミア | Boku no Hero Academia | My Hero ...</td>\n",
       "      <td>331989</td>\n",
       "    </tr>\n",
       "    <tr>\n",
       "      <th>9</th>\n",
       "      <td>Video Blogging RPF</td>\n",
       "      <td>290455</td>\n",
       "    </tr>\n",
       "    <tr>\n",
       "      <th>10</th>\n",
       "      <td>Supernatural (TV 2005)</td>\n",
       "      <td>262938</td>\n",
       "    </tr>\n",
       "  </tbody>\n",
       "</table>\n",
       "</div>"
      ],
      "text/plain": [
       "                                               fandom  število del\n",
       "1                                 Real Person Fiction       764303\n",
       "2                                               K-pop       709325\n",
       "3                                              Marvel       647349\n",
       "4                        Harry Potter - J. K. Rowling       537058\n",
       "5                           Marvel Cinematic Universe       520890\n",
       "6                                       Original Work       361570\n",
       "7                                                 DCU       344912\n",
       "8   僕のヒーローアカデミア | Boku no Hero Academia | My Hero ...       331989\n",
       "9                                  Video Blogging RPF       290455\n",
       "10                             Supernatural (TV 2005)       262938"
      ]
     },
     "execution_count": 325,
     "metadata": {},
     "output_type": "execute_result"
    }
   ],
   "source": [
    "naj_10_res=brez_vrste[brez_vrste['kriterij']=='pusti']\n",
    "del naj_10_res['kriterij']\n",
    "naj_10_res=naj_10_res.head(10)\n",
    "naj_10_res.reset_index(drop = True, inplace = True)\n",
    "naj_10_res.index = naj_10_res.index + 1\n",
    "naj_10_res\n"
   ]
  },
  {
   "cell_type": "markdown",
   "id": "be841879",
   "metadata": {},
   "source": [
    "Izkaže se, da sta med vodilnimi področji *Real Person Fiction* (liki v zgodbah so resnični ljudje) in *K-pop*, obe s kar več kot 700.000 del. Če dobro pogledamo, opazimo, da se *Marvel* zopet pojavi dvakrat, tokrat pod različnima naslovoma na 3. in 5. mestu. Število del pod imenoma je različno, iz česar lahko sklepamo, da gre za različna dela. Žal ponavljanje področij pod podobnimi imeni na tej spletni strani ni redkost, a se v večini ne pojavlja pri dovolj znanih *fandomih*. Zaradi tega bomo obe pojavitvi *Marvel*-a tokrat obravnavali kot različni, z malo razmisleka pa lahko opazimo, da imata skupaj več kot milijon del, kar naredi *Marvel* najbolj priljubljen *fandom*."
   ]
  },
  {
   "cell_type": "markdown",
   "id": "6fe4502e",
   "metadata": {},
   "source": [
    "V naprej se je dobro zavedati, da različne kategorije niso nujno disjunktne množice fandomov. To bo močno pomagalo pri razumevanju naslednjih grafov, v katerih so prikazani deleži, ki jih posamezne kategorije zastopajo.\n",
    "\n",
    "Deleže lahko izračunamo na dva načina: štejemo lahko število fandomov ali število vseh del znotraj kategorije. "
   ]
  },
  {
   "cell_type": "code",
   "execution_count": 326,
   "id": "0df2f8a3",
   "metadata": {},
   "outputs": [],
   "source": [
    "# priljubljenost kategorije glede na število del\n",
    "vrste=fandomi[['vrsta fandoma','število del']].copy()\n",
    "vrste=vrste.groupby('vrsta fandoma').sum('število del')\n",
    "vrste.sort_values('število del', ascending= False, inplace=True)\n",
    "vrste=vrste.reset_index()\n",
    "vrste.index=vrste.index +1\n",
    "vsa_dela= vrste['število del'].sum()\n",
    "vrste['delež (v %)']=((vrste['število del']/vsa_dela)*100).round(1)"
   ]
  },
  {
   "cell_type": "code",
   "execution_count": 327,
   "id": "7e2db40e",
   "metadata": {},
   "outputs": [
    {
     "data": {
      "text/html": [
       "<div>\n",
       "<style scoped>\n",
       "    .dataframe tbody tr th:only-of-type {\n",
       "        vertical-align: middle;\n",
       "    }\n",
       "\n",
       "    .dataframe tbody tr th {\n",
       "        vertical-align: top;\n",
       "    }\n",
       "\n",
       "    .dataframe thead th {\n",
       "        text-align: right;\n",
       "    }\n",
       "</style>\n",
       "<table border=\"1\" class=\"dataframe\">\n",
       "  <thead>\n",
       "    <tr style=\"text-align: right;\">\n",
       "      <th></th>\n",
       "      <th>vrsta fandoma</th>\n",
       "      <th>število del</th>\n",
       "      <th>delež (v %)</th>\n",
       "    </tr>\n",
       "  </thead>\n",
       "  <tbody>\n",
       "    <tr>\n",
       "      <th>1</th>\n",
       "      <td>TV Shows</td>\n",
       "      <td>6189778</td>\n",
       "      <td>17.4</td>\n",
       "    </tr>\n",
       "    <tr>\n",
       "      <th>2</th>\n",
       "      <td>Movies</td>\n",
       "      <td>5881969</td>\n",
       "      <td>16.5</td>\n",
       "    </tr>\n",
       "    <tr>\n",
       "      <th>3</th>\n",
       "      <td>Cartoons &amp; Comics &amp; Graphic Novels</td>\n",
       "      <td>4997354</td>\n",
       "      <td>14.0</td>\n",
       "    </tr>\n",
       "    <tr>\n",
       "      <th>4</th>\n",
       "      <td>Video Games</td>\n",
       "      <td>4604194</td>\n",
       "      <td>12.9</td>\n",
       "    </tr>\n",
       "    <tr>\n",
       "      <th>5</th>\n",
       "      <td>Books &amp; Literature</td>\n",
       "      <td>3654480</td>\n",
       "      <td>10.3</td>\n",
       "    </tr>\n",
       "    <tr>\n",
       "      <th>6</th>\n",
       "      <td>Anime &amp; Manga</td>\n",
       "      <td>2958121</td>\n",
       "      <td>8.3</td>\n",
       "    </tr>\n",
       "    <tr>\n",
       "      <th>7</th>\n",
       "      <td>Other Media</td>\n",
       "      <td>2599326</td>\n",
       "      <td>7.3</td>\n",
       "    </tr>\n",
       "    <tr>\n",
       "      <th>8</th>\n",
       "      <td>Celebrities &amp; Real People</td>\n",
       "      <td>2270017</td>\n",
       "      <td>6.4</td>\n",
       "    </tr>\n",
       "    <tr>\n",
       "      <th>9</th>\n",
       "      <td>Music &amp; Bands</td>\n",
       "      <td>2224604</td>\n",
       "      <td>6.3</td>\n",
       "    </tr>\n",
       "    <tr>\n",
       "      <th>10</th>\n",
       "      <td>Theater</td>\n",
       "      <td>190181</td>\n",
       "      <td>0.5</td>\n",
       "    </tr>\n",
       "  </tbody>\n",
       "</table>\n",
       "</div>"
      ],
      "text/plain": [
       "                         vrsta fandoma  število del  delež (v %)\n",
       "1                             TV Shows      6189778         17.4\n",
       "2                               Movies      5881969         16.5\n",
       "3   Cartoons & Comics & Graphic Novels      4997354         14.0\n",
       "4                          Video Games      4604194         12.9\n",
       "5                   Books & Literature      3654480         10.3\n",
       "6                        Anime & Manga      2958121          8.3\n",
       "7                          Other Media      2599326          7.3\n",
       "8            Celebrities & Real People      2270017          6.4\n",
       "9                        Music & Bands      2224604          6.3\n",
       "10                             Theater       190181          0.5"
      ]
     },
     "execution_count": 327,
     "metadata": {},
     "output_type": "execute_result"
    }
   ],
   "source": [
    "vrste"
   ]
  },
  {
   "cell_type": "code",
   "execution_count": 328,
   "id": "ad863a30",
   "metadata": {},
   "outputs": [
    {
     "data": {
      "image/png": "[encoded data removed]",
      "text/plain": [
       "<Figure size 800x300 with 1 Axes>"
      ]
     },
     "metadata": {},
     "output_type": "display_data"
    }
   ],
   "source": [
    "graf1=vrste.sort_values('število del')\n",
    "plt.figure(figsize=(8,3))\n",
    "plt.barh(graf1['vrsta fandoma'], graf1['število del'], color='#ff8766', edgecolor='black')\n",
    "leto=[i for i in range(0,6500000) if i%500000 ==0]\n",
    "plt.xticks(leto,leto, rotation=50)\n",
    "plt.grid(axis='x', linestyle='--')\n",
    "plt.tight_layout()"
   ]
  },
  {
   "cell_type": "code",
   "execution_count": 329,
   "id": "184d9aa0",
   "metadata": {},
   "outputs": [
    {
     "data": {
      "text/html": [
       "<div>\n",
       "<style scoped>\n",
       "    .dataframe tbody tr th:only-of-type {\n",
       "        vertical-align: middle;\n",
       "    }\n",
       "\n",
       "    .dataframe tbody tr th {\n",
       "        vertical-align: top;\n",
       "    }\n",
       "\n",
       "    .dataframe thead th {\n",
       "        text-align: right;\n",
       "    }\n",
       "</style>\n",
       "<table border=\"1\" class=\"dataframe\">\n",
       "  <thead>\n",
       "    <tr style=\"text-align: right;\">\n",
       "      <th></th>\n",
       "      <th>kategorija</th>\n",
       "      <th>število fandomov</th>\n",
       "    </tr>\n",
       "  </thead>\n",
       "  <tbody>\n",
       "    <tr>\n",
       "      <th>1</th>\n",
       "      <td>Movies</td>\n",
       "      <td>12593</td>\n",
       "    </tr>\n",
       "    <tr>\n",
       "      <th>2</th>\n",
       "      <td>Books &amp; Literature</td>\n",
       "      <td>12485</td>\n",
       "    </tr>\n",
       "    <tr>\n",
       "      <th>3</th>\n",
       "      <td>TV Shows</td>\n",
       "      <td>10394</td>\n",
       "    </tr>\n",
       "    <tr>\n",
       "      <th>4</th>\n",
       "      <td>Video Games</td>\n",
       "      <td>7333</td>\n",
       "    </tr>\n",
       "    <tr>\n",
       "      <th>5</th>\n",
       "      <td>Music &amp; Bands</td>\n",
       "      <td>7067</td>\n",
       "    </tr>\n",
       "    <tr>\n",
       "      <th>6</th>\n",
       "      <td>Cartoons &amp; Comics &amp; Graphic Novels</td>\n",
       "      <td>5506</td>\n",
       "    </tr>\n",
       "    <tr>\n",
       "      <th>7</th>\n",
       "      <td>Anime &amp; Manga</td>\n",
       "      <td>4746</td>\n",
       "    </tr>\n",
       "    <tr>\n",
       "      <th>8</th>\n",
       "      <td>Other Media</td>\n",
       "      <td>4459</td>\n",
       "    </tr>\n",
       "    <tr>\n",
       "      <th>9</th>\n",
       "      <td>Celebrities &amp; Real People</td>\n",
       "      <td>2290</td>\n",
       "    </tr>\n",
       "    <tr>\n",
       "      <th>10</th>\n",
       "      <td>Theater</td>\n",
       "      <td>1551</td>\n",
       "    </tr>\n",
       "  </tbody>\n",
       "</table>\n",
       "</div>"
      ],
      "text/plain": [
       "                            kategorija  število fandomov\n",
       "1                               Movies             12593\n",
       "2                   Books & Literature             12485\n",
       "3                             TV Shows             10394\n",
       "4                          Video Games              7333\n",
       "5                        Music & Bands              7067\n",
       "6   Cartoons & Comics & Graphic Novels              5506\n",
       "7                        Anime & Manga              4746\n",
       "8                          Other Media              4459\n",
       "9            Celebrities & Real People              2290\n",
       "10                             Theater              1551"
      ]
     },
     "execution_count": 329,
     "metadata": {},
     "output_type": "execute_result"
    }
   ],
   "source": [
    "#priljubljenost kategorije glede na število fandomov\n",
    "st_fandomi=fandomi['vrsta fandoma'].value_counts()\n",
    "st_fandomi=pd.DataFrame(st_fandomi)\n",
    "st_fandomi.sort_values('count', inplace=True, ascending=False )\n",
    "st_fandomi=st_fandomi.reset_index()\n",
    "st_fandomi.rename(columns={'vrsta fandoma':'kategorija', 'count': 'število fandomov'}, inplace=True)\n",
    "st_fandomi.index=st_fandomi.index+1\n",
    "st_fandomi"
   ]
  },
  {
   "cell_type": "markdown",
   "id": "848fa712",
   "metadata": {},
   "source": [
    "Mislili bi si, da bo priljubljenost posamezne kategorije približno enaka, ne glede na to katerega izmed kriterijev izberemo, a se izkaže, da se vrstni red priljubljenosti dosti razlikuje. Za boljšo primerjavo si drug ob drugem poglejmo tortna diagrama, ki predstavljata deleže arhiva, ki ji glede na izbran kriterij zapolnjuje posamezna kategorija."
   ]
  },
  {
   "cell_type": "code",
   "execution_count": 330,
   "id": "7f2db0aa",
   "metadata": {},
   "outputs": [
    {
     "data": {
      "text/plain": [
       "<Axes: >"
      ]
     },
     "execution_count": 330,
     "metadata": {},
     "output_type": "execute_result"
    },
    {
     "data": {
      "image/png": "[encoded data removed]",
      "text/plain": [
       "<Figure size 1600x400 with 2 Axes>"
      ]
     },
     "metadata": {},
     "output_type": "display_data"
    }
   ],
   "source": [
    "figure, (a1,a2)=plt.subplots(1,2, figsize=(16,4))\n",
    "vrste.plot(kind='pie', y='delež (v %)', ylabel='',labels=vrste['vrsta fandoma'],\n",
    "           legend=None,\n",
    "           autopct=lambda p: f'{p:.1f}%' if p > 5 else '', #zaradi prekrivanja števil\n",
    "           ax=a1, \n",
    "           startangle=90,\n",
    "           counterclock=False,\n",
    "           colors=['#f55f36','#0598fa',\"#fb6fda\",'#fad905','#36f58c','#fa0505',\"#36dd2a\",\"#b400b4\",'#998192','#4f290f'],)\n",
    "st_fandomi.plot(kind='pie', y='število fandomov',ylabel='', labels=st_fandomi['kategorija'], \n",
    "            legend=None,\n",
    "            autopct=lambda p: f'{p:.1f}%' if p > 5 else '', #zaradi prekrivanja števil\n",
    "            ax=a2,\n",
    "            startangle=90,\n",
    "            counterclock=False,\n",
    "            colors=['#f55f36','#0598fa',\"#fb6fda\",'#fad905','#36f58c','#fa0505',\"#36dd2a\",\"#b400b4\",'#998192','#4f290f'],)\n"
   ]
  },
  {
   "cell_type": "markdown",
   "id": "36be5733",
   "metadata": {},
   "source": [
    "Zanimiva opazka pri tem je, da so deleži na obeh grafih zelo podobnni za vseh 10 kategorij. Glavna razlika med grafoma je v resnici razporeditev posameznih kategorij glede na izbran kriterij.\n",
    "\n",
    "Ob upoštevanju obeh krtierijev lahko kljub razlikam naredimo nekaj dobrih zaključkov. Ne glede na kriterij je najmanj zastopano področe *Theater* oziroma gledališče. Razlog najverjetneje leži v dejstvu, da je pisanje in objavljanje takšnih krajših del dosti bolj priljubljeno med mlajšimi generacijami. Poleg tega so vse ostal naštete kategorije medijev danes bolj dostopne kot gledališče.\n",
    "\n",
    "Med najbolj priljubljeni kategoriji zagotovo spadata *Movies* (filmi) in *TV Shows* (televizijske oddaje). Ti dve kategoriji se v obeh primerih pojavita med tremi najboljšimi, vsaka enkrat zasede prvo mesto.\n",
    "\n",
    "Še ena kategorija, ki ima dokaj zasidrano mesto na lestvici priljubljenih je *Video Games* (videoigre). Ta je v obeh primerih pristala na 4. mestu, prav tako z dovolj podobnim deležem."
   ]
  },
  {
   "cell_type": "markdown",
   "id": "c0c2fc7a",
   "metadata": {},
   "source": [
    "### Število del\n",
    "\n",
    "Zanima nas količina del napisanih za različne fandome, ker pa je lahko to karkoli med 1 in več kot 700.000, je dobro število del zaokrožiti vsaj na 100."
   ]
  },
  {
   "cell_type": "code",
   "execution_count": 331,
   "id": "16e84b83",
   "metadata": {},
   "outputs": [],
   "source": [
    "def zaokroži_100(x):\n",
    "    return round(x, -2)\n",
    "dela_zaokroženo=fandomi['število del'].apply(zaokroži_100)\n",
    "fandomi['dela zaokroženo']=dela_zaokroženo\n",
    "dela_100=fandomi['dela zaokroženo'].value_counts().to_frame()\n",
    "dela_100.rename(columns={'count': 'št. fandomov'}, inplace=True)\n",
    "dela_100.reset_index(inplace=True)"
   ]
  },
  {
   "cell_type": "markdown",
   "id": "1859d825",
   "metadata": {},
   "source": [
    "Rezultate bi radi predstavili na grafu, kjer so na *x*-osi predstavljena števila del, na *y*-osi pa število *fandomov*, za katere je napisano tako število del."
   ]
  },
  {
   "cell_type": "code",
   "execution_count": 332,
   "id": "701ed6aa",
   "metadata": {},
   "outputs": [
    {
     "data": {
      "image/png": "[encoded data removed]",
      "text/plain": [
       "<Figure size 500x200 with 1 Axes>"
      ]
     },
     "metadata": {},
     "output_type": "display_data"
    }
   ],
   "source": [
    "plt.figure(figsize=(5,2))\n",
    "plt.plot(dela_100['št. fandomov'], color='#178719')\n",
    "plt.ylabel('Število  fandomov')\n",
    "plt.xlabel('Število del')\n",
    "plt.xticks(rotation=30)\n",
    "plt.show()"
   ]
  },
  {
   "cell_type": "markdown",
   "id": "7370a628",
   "metadata": {},
   "source": [
    "Opazimo, da je *fandomov* z manj kot 50 deli občutno več kot ostalih, zaradi česar je zgornji graf dokaj nekoristen. Da bodo podatki bolj reprezentativni, si poglejmo zgolj *fandome* z 500 ali manj deli, pri čemer tokrat število del zaokrožimo na 10."
   ]
  },
  {
   "cell_type": "code",
   "execution_count": 333,
   "id": "17e76362",
   "metadata": {},
   "outputs": [
    {
     "data": {
      "text/html": [
       "<div>\n",
       "<style scoped>\n",
       "    .dataframe tbody tr th:only-of-type {\n",
       "        vertical-align: middle;\n",
       "    }\n",
       "\n",
       "    .dataframe tbody tr th {\n",
       "        vertical-align: top;\n",
       "    }\n",
       "\n",
       "    .dataframe thead th {\n",
       "        text-align: right;\n",
       "    }\n",
       "</style>\n",
       "<table border=\"1\" class=\"dataframe\">\n",
       "  <thead>\n",
       "    <tr style=\"text-align: right;\">\n",
       "      <th></th>\n",
       "      <th>count</th>\n",
       "    </tr>\n",
       "    <tr>\n",
       "      <th>dela zaokroženo</th>\n",
       "      <th></th>\n",
       "    </tr>\n",
       "  </thead>\n",
       "  <tbody>\n",
       "    <tr>\n",
       "      <th>0</th>\n",
       "      <td>40601</td>\n",
       "    </tr>\n",
       "    <tr>\n",
       "      <th>10</th>\n",
       "      <td>9485</td>\n",
       "    </tr>\n",
       "    <tr>\n",
       "      <th>20</th>\n",
       "      <td>4167</td>\n",
       "    </tr>\n",
       "    <tr>\n",
       "      <th>30</th>\n",
       "      <td>1868</td>\n",
       "    </tr>\n",
       "    <tr>\n",
       "      <th>40</th>\n",
       "      <td>1490</td>\n",
       "    </tr>\n",
       "    <tr>\n",
       "      <th>...</th>\n",
       "      <td>...</td>\n",
       "    </tr>\n",
       "    <tr>\n",
       "      <th>450</th>\n",
       "      <td>38</td>\n",
       "    </tr>\n",
       "    <tr>\n",
       "      <th>440</th>\n",
       "      <td>37</td>\n",
       "    </tr>\n",
       "    <tr>\n",
       "      <th>490</th>\n",
       "      <td>30</td>\n",
       "    </tr>\n",
       "    <tr>\n",
       "      <th>430</th>\n",
       "      <td>28</td>\n",
       "    </tr>\n",
       "    <tr>\n",
       "      <th>500</th>\n",
       "      <td>15</td>\n",
       "    </tr>\n",
       "  </tbody>\n",
       "</table>\n",
       "<p>51 rows × 1 columns</p>\n",
       "</div>"
      ],
      "text/plain": [
       "                 count\n",
       "dela zaokroženo       \n",
       "0                40601\n",
       "10                9485\n",
       "20                4167\n",
       "30                1868\n",
       "40                1490\n",
       "...                ...\n",
       "450                 38\n",
       "440                 37\n",
       "490                 30\n",
       "430                 28\n",
       "500                 15\n",
       "\n",
       "[51 rows x 1 columns]"
      ]
     },
     "execution_count": 333,
     "metadata": {},
     "output_type": "execute_result"
    }
   ],
   "source": [
    "\n",
    "manjši_fandomi=fandomi[fandomi['število del']<=500].copy()\n",
    "def zaokroži_10(x):\n",
    "    return round(x,-1)\n",
    "dela_10=manjši_fandomi['število del'].apply(zaokroži_10)\n",
    "manjši_fandomi['dela zaokroženo']=dela_10\n",
    "manjši_fandomi.sort_values('število del', inplace=True, ascending=False)\n",
    "graf_10=manjši_fandomi['dela zaokroženo'].value_counts().to_frame()\n",
    "graf_10"
   ]
  },
  {
   "cell_type": "code",
   "execution_count": 334,
   "id": "c13698cc",
   "metadata": {},
   "outputs": [
    {
     "name": "stdout",
     "output_type": "stream",
     "text": [
      "Število \"fandomov\", za katera je napisano zgolj eno delo je 21063, vseh \"fandomov\" pa je 68424.\n"
     ]
    }
   ],
   "source": [
    "samo_1=len(fandomi[fandomi['število del']==1])\n",
    "vseh=len(fandomi)\n",
    "print(f'Število \"fandomov\", za katera je napisano zgolj eno delo je {samo_1}, vseh \"fandomov\" pa je {vseh}.')"
   ]
  },
  {
   "cell_type": "markdown",
   "id": "8bc46abe",
   "metadata": {},
   "source": [
    "Področij, katerih število del se zaokroži na 0, je kljub temu še vedno veliko več kot ostalih. To je posledica ogromnega deleža podorčij, za katera je bilo napisano samo eno delo. Za še boljšo predstavo količine del napisanih za različna področja bomo zato prikazali tudi graf brez tistih podorčij, za katera je napisanih manj kot 5 del. "
   ]
  },
  {
   "cell_type": "code",
   "execution_count": 335,
   "id": "d4671722",
   "metadata": {},
   "outputs": [
    {
     "data": {
      "image/png": "[encoded data removed]",
      "text/plain": [
       "<Figure size 1600x500 with 2 Axes>"
      ]
     },
     "metadata": {},
     "output_type": "display_data"
    }
   ],
   "source": [
    "brez_0=graf_10[graf_10.index>0].copy() # pripravimo tabelo kjer izpustimo prvo vrstico\n",
    "fig, (a1,a2)=plt.subplots(1,2,figsize=(16,5))\n",
    "graf_10.plot(kind='line',y='count', legend=False, ax=a1, color='#0e1ac2')\n",
    "brez_0.plot(kind='line',y='count',legend=False, ax=a2, color='#208a19')\n",
    "a1.set_title('Število del z 0 (zaokroženo)')\n",
    "a2.set_title('Število del brez 0 (zaokroženo)')\n",
    "plt.show()\n"
   ]
  },
  {
   "cell_type": "markdown",
   "id": "1062612d",
   "metadata": {},
   "source": [
    "Rezultat je tukaj precej očiten. Za večino področij na spletni strani je napisanih manj kot 5 del, področja, za katere je napisanih več kot 100 del pa so v primerjavi s prejšnjimi prav redka. Del razloga za to se lahko skriva v tem, da je včasih eno področje objavljeno pod več različnimi imeni, ki se med seboj razlikujejo le v specifikah. Če se na primer spomnimo na začetek analize, kjer smo predstavili 10 najbolj popularnih podorčij, se je *Marvel* pojavil dvakrat: enkrat pod tem imenom in drugič pod *Marvel Cinematic Universe*. Žal spletna stran ni dovolj stroga do uporabnikov, da bi preprečila ustvarjanje tako podobnih imen *fandomov*, zaradi česar so dela predvsem manj znanih področij razpršena pod več zelo podobnih imen."
   ]
  },
  {
   "cell_type": "markdown",
   "id": "95f6053c",
   "metadata": {},
   "source": [
    "## Analiza del na temo *Harry Potter*\n",
    "\n",
    "S spletne strani smo pobrali 1.000 najbolj priljubljenih del o Harryju Potterju, pri čemer smo priljubljenost upoštevali gelede na število *kudosov*, kar je na tej spletni strani ekvivalentno všečkom. Še dve kategoriji, ki ju je vredno komentriati pred začetkom same analize, sta *hits* in *bookmarks*. *Hits* predstavlja število kolikokrat so uporabniki odprli določeno delo - in ga posledično najverjetneje brali, *bookmarks* pa predstavlja število ljudi, ki so to delo na neki točki shranili, najverjetneje za branje pozneje. Smiselno je omeniti še, da kategoriji *mesec* in *leto* predstvaljata okviren datum, ko je avtor delo nazadnje posodobil.\n",
    "\n",
    "Sedaj ko vse kategorije malo bolje razumemo, se lotimo same analize."
   ]
  },
  {
   "cell_type": "code",
   "execution_count": 336,
   "id": "fba6503a",
   "metadata": {},
   "outputs": [
    {
     "data": {
      "text/html": [
       "<div>\n",
       "<style scoped>\n",
       "    .dataframe tbody tr th:only-of-type {\n",
       "        vertical-align: middle;\n",
       "    }\n",
       "\n",
       "    .dataframe tbody tr th {\n",
       "        vertical-align: top;\n",
       "    }\n",
       "\n",
       "    .dataframe thead th {\n",
       "        text-align: right;\n",
       "    }\n",
       "</style>\n",
       "<table border=\"1\" class=\"dataframe\">\n",
       "  <thead>\n",
       "    <tr style=\"text-align: right;\">\n",
       "      <th></th>\n",
       "      <th>naslov</th>\n",
       "      <th>mesec</th>\n",
       "      <th>leto</th>\n",
       "      <th>jezik</th>\n",
       "      <th>število besed</th>\n",
       "      <th>komentarji</th>\n",
       "      <th>kudos</th>\n",
       "      <th>bookmarks</th>\n",
       "      <th>hits</th>\n",
       "      <th>napisana poglavja</th>\n",
       "      <th>vsa poglavja</th>\n",
       "      <th>avtor</th>\n",
       "    </tr>\n",
       "  </thead>\n",
       "  <tbody>\n",
       "    <tr>\n",
       "      <th>1</th>\n",
       "      <td>All the Young Dudes</td>\n",
       "      <td>11</td>\n",
       "      <td>2018</td>\n",
       "      <td>English</td>\n",
       "      <td>526969</td>\n",
       "      <td>44487</td>\n",
       "      <td>276722</td>\n",
       "      <td>49336</td>\n",
       "      <td>18157885</td>\n",
       "      <td>188</td>\n",
       "      <td>188</td>\n",
       "      <td>MsKingBean89</td>\n",
       "    </tr>\n",
       "    <tr>\n",
       "      <th>2</th>\n",
       "      <td>Draco Malfoy and the Mortifying Ordeal of Bein...</td>\n",
       "      <td>4</td>\n",
       "      <td>2022</td>\n",
       "      <td>English</td>\n",
       "      <td>199548</td>\n",
       "      <td>12685</td>\n",
       "      <td>89006</td>\n",
       "      <td>27901</td>\n",
       "      <td>4707503</td>\n",
       "      <td>36</td>\n",
       "      <td>36</td>\n",
       "      <td>isthisselfcare</td>\n",
       "    </tr>\n",
       "    <tr>\n",
       "      <th>3</th>\n",
       "      <td>Evitative</td>\n",
       "      <td>2</td>\n",
       "      <td>2020</td>\n",
       "      <td>English</td>\n",
       "      <td>222453</td>\n",
       "      <td>8403</td>\n",
       "      <td>80862</td>\n",
       "      <td>21865</td>\n",
       "      <td>2693248</td>\n",
       "      <td>29</td>\n",
       "      <td>29</td>\n",
       "      <td>Vichan</td>\n",
       "    </tr>\n",
       "    <tr>\n",
       "      <th>4</th>\n",
       "      <td>Lily's Boy</td>\n",
       "      <td>1</td>\n",
       "      <td>2022</td>\n",
       "      <td>English</td>\n",
       "      <td>746386</td>\n",
       "      <td>12760</td>\n",
       "      <td>77795</td>\n",
       "      <td>22793</td>\n",
       "      <td>4530812</td>\n",
       "      <td>109</td>\n",
       "      <td>109</td>\n",
       "      <td>SomewheresSword</td>\n",
       "    </tr>\n",
       "    <tr>\n",
       "      <th>5</th>\n",
       "      <td>Then Comes a Mist and a Weeping Rain</td>\n",
       "      <td>8</td>\n",
       "      <td>2011</td>\n",
       "      <td>English</td>\n",
       "      <td>21139</td>\n",
       "      <td>1313</td>\n",
       "      <td>76338</td>\n",
       "      <td>14321</td>\n",
       "      <td>928311</td>\n",
       "      <td>1</td>\n",
       "      <td>1</td>\n",
       "      <td>Faith Wood (faithwood)</td>\n",
       "    </tr>\n",
       "    <tr>\n",
       "      <th>...</th>\n",
       "      <td>...</td>\n",
       "      <td>...</td>\n",
       "      <td>...</td>\n",
       "      <td>...</td>\n",
       "      <td>...</td>\n",
       "      <td>...</td>\n",
       "      <td>...</td>\n",
       "      <td>...</td>\n",
       "      <td>...</td>\n",
       "      <td>...</td>\n",
       "      <td>...</td>\n",
       "      <td>...</td>\n",
       "    </tr>\n",
       "    <tr>\n",
       "      <th>996</th>\n",
       "      <td>A Beautiful Lie</td>\n",
       "      <td>11</td>\n",
       "      <td>2021</td>\n",
       "      <td>English</td>\n",
       "      <td>65840</td>\n",
       "      <td>1669</td>\n",
       "      <td>8114</td>\n",
       "      <td>2512</td>\n",
       "      <td>185548</td>\n",
       "      <td>14</td>\n",
       "      <td>ni podatka</td>\n",
       "      <td>Panis_fluvium</td>\n",
       "    </tr>\n",
       "    <tr>\n",
       "      <th>997</th>\n",
       "      <td>blood will tell but often it tells too much</td>\n",
       "      <td>8</td>\n",
       "      <td>2016</td>\n",
       "      <td>English</td>\n",
       "      <td>2489</td>\n",
       "      <td>278</td>\n",
       "      <td>8110</td>\n",
       "      <td>2468</td>\n",
       "      <td>62813</td>\n",
       "      <td>1</td>\n",
       "      <td>1</td>\n",
       "      <td>elumish</td>\n",
       "    </tr>\n",
       "    <tr>\n",
       "      <th>998</th>\n",
       "      <td>White Lies</td>\n",
       "      <td>12</td>\n",
       "      <td>2017</td>\n",
       "      <td>English</td>\n",
       "      <td>171013</td>\n",
       "      <td>512</td>\n",
       "      <td>8110</td>\n",
       "      <td>2461</td>\n",
       "      <td>271745</td>\n",
       "      <td>32</td>\n",
       "      <td>32</td>\n",
       "      <td>cassisluna</td>\n",
       "    </tr>\n",
       "    <tr>\n",
       "      <th>999</th>\n",
       "      <td>Finest in Fairford</td>\n",
       "      <td>8</td>\n",
       "      <td>2012</td>\n",
       "      <td>English</td>\n",
       "      <td>4997</td>\n",
       "      <td>180</td>\n",
       "      <td>8110</td>\n",
       "      <td>1049</td>\n",
       "      <td>68414</td>\n",
       "      <td>1</td>\n",
       "      <td>1</td>\n",
       "      <td>bluepeony</td>\n",
       "    </tr>\n",
       "    <tr>\n",
       "      <th>1000</th>\n",
       "      <td>the art of hiding</td>\n",
       "      <td>2</td>\n",
       "      <td>2022</td>\n",
       "      <td>English</td>\n",
       "      <td>12373</td>\n",
       "      <td>133</td>\n",
       "      <td>8108</td>\n",
       "      <td>1690</td>\n",
       "      <td>79406</td>\n",
       "      <td>1</td>\n",
       "      <td>1</td>\n",
       "      <td>pinkpalaceapartments</td>\n",
       "    </tr>\n",
       "  </tbody>\n",
       "</table>\n",
       "<p>1000 rows × 12 columns</p>\n",
       "</div>"
      ],
      "text/plain": [
       "                                                 naslov  mesec  leto    jezik  \\\n",
       "1                                   All the Young Dudes     11  2018  English   \n",
       "2     Draco Malfoy and the Mortifying Ordeal of Bein...      4  2022  English   \n",
       "3                                             Evitative      2  2020  English   \n",
       "4                                            Lily's Boy      1  2022  English   \n",
       "5                  Then Comes a Mist and a Weeping Rain      8  2011  English   \n",
       "...                                                 ...    ...   ...      ...   \n",
       "996                                     A Beautiful Lie     11  2021  English   \n",
       "997         blood will tell but often it tells too much      8  2016  English   \n",
       "998                                          White Lies     12  2017  English   \n",
       "999                                  Finest in Fairford      8  2012  English   \n",
       "1000                                  the art of hiding      2  2022  English   \n",
       "\n",
       "      število besed  komentarji   kudos  bookmarks      hits  \\\n",
       "1            526969       44487  276722      49336  18157885   \n",
       "2            199548       12685   89006      27901   4707503   \n",
       "3            222453        8403   80862      21865   2693248   \n",
       "4            746386       12760   77795      22793   4530812   \n",
       "5             21139        1313   76338      14321    928311   \n",
       "...             ...         ...     ...        ...       ...   \n",
       "996           65840        1669    8114       2512    185548   \n",
       "997            2489         278    8110       2468     62813   \n",
       "998          171013         512    8110       2461    271745   \n",
       "999            4997         180    8110       1049     68414   \n",
       "1000          12373         133    8108       1690     79406   \n",
       "\n",
       "      napisana poglavja vsa poglavja                   avtor  \n",
       "1                   188          188            MsKingBean89  \n",
       "2                    36           36          isthisselfcare  \n",
       "3                    29           29                  Vichan  \n",
       "4                   109          109         SomewheresSword  \n",
       "5                     1            1  Faith Wood (faithwood)  \n",
       "...                 ...          ...                     ...  \n",
       "996                  14   ni podatka           Panis_fluvium  \n",
       "997                   1            1                 elumish  \n",
       "998                  32           32              cassisluna  \n",
       "999                   1            1               bluepeony  \n",
       "1000                  1            1    pinkpalaceapartments  \n",
       "\n",
       "[1000 rows x 12 columns]"
      ]
     },
     "execution_count": 336,
     "metadata": {},
     "output_type": "execute_result"
    }
   ],
   "source": [
    "dela.sort_values('kudos', inplace=True, ascending=False )\n",
    "dela=dela.reset_index(drop=True)\n",
    "dela.index=dela.index+1\n",
    "dela"
   ]
  },
  {
   "cell_type": "markdown",
   "id": "a58e255b",
   "metadata": {},
   "source": [
    "### Jezik"
   ]
  },
  {
   "cell_type": "code",
   "execution_count": 337,
   "id": "3702cb9b",
   "metadata": {},
   "outputs": [
    {
     "data": {
      "text/html": [
       "<div>\n",
       "<style scoped>\n",
       "    .dataframe tbody tr th:only-of-type {\n",
       "        vertical-align: middle;\n",
       "    }\n",
       "\n",
       "    .dataframe tbody tr th {\n",
       "        vertical-align: top;\n",
       "    }\n",
       "\n",
       "    .dataframe thead th {\n",
       "        text-align: right;\n",
       "    }\n",
       "</style>\n",
       "<table border=\"1\" class=\"dataframe\">\n",
       "  <thead>\n",
       "    <tr style=\"text-align: right;\">\n",
       "      <th></th>\n",
       "      <th>count</th>\n",
       "    </tr>\n",
       "    <tr>\n",
       "      <th>jezik</th>\n",
       "      <th></th>\n",
       "    </tr>\n",
       "  </thead>\n",
       "  <tbody>\n",
       "    <tr>\n",
       "      <th>English</th>\n",
       "      <td>999</td>\n",
       "    </tr>\n",
       "    <tr>\n",
       "      <th>Español</th>\n",
       "      <td>1</td>\n",
       "    </tr>\n",
       "  </tbody>\n",
       "</table>\n",
       "</div>"
      ],
      "text/plain": [
       "         count\n",
       "jezik         \n",
       "English    999\n",
       "Español      1"
      ]
     },
     "execution_count": 337,
     "metadata": {},
     "output_type": "execute_result"
    }
   ],
   "source": [
    "jeziki=dela['jezik'].value_counts().to_frame()\n",
    "jeziki"
   ]
  },
  {
   "cell_type": "code",
   "execution_count": 338,
   "id": "778d6424",
   "metadata": {},
   "outputs": [
    {
     "data": {
      "text/html": [
       "<div>\n",
       "<style scoped>\n",
       "    .dataframe tbody tr th:only-of-type {\n",
       "        vertical-align: middle;\n",
       "    }\n",
       "\n",
       "    .dataframe tbody tr th {\n",
       "        vertical-align: top;\n",
       "    }\n",
       "\n",
       "    .dataframe thead th {\n",
       "        text-align: right;\n",
       "    }\n",
       "</style>\n",
       "<table border=\"1\" class=\"dataframe\">\n",
       "  <thead>\n",
       "    <tr style=\"text-align: right;\">\n",
       "      <th></th>\n",
       "      <th>naslov</th>\n",
       "      <th>mesec</th>\n",
       "      <th>leto</th>\n",
       "      <th>jezik</th>\n",
       "      <th>število besed</th>\n",
       "      <th>komentarji</th>\n",
       "      <th>kudos</th>\n",
       "      <th>bookmarks</th>\n",
       "      <th>hits</th>\n",
       "      <th>napisana poglavja</th>\n",
       "      <th>vsa poglavja</th>\n",
       "      <th>avtor</th>\n",
       "    </tr>\n",
       "  </thead>\n",
       "  <tbody>\n",
       "    <tr>\n",
       "      <th>765</th>\n",
       "      <td>Draco Malfoy y los héroes del Olimpo</td>\n",
       "      <td>8</td>\n",
       "      <td>2025</td>\n",
       "      <td>Español</td>\n",
       "      <td>905336</td>\n",
       "      <td>13141</td>\n",
       "      <td>9378</td>\n",
       "      <td>354</td>\n",
       "      <td>335876</td>\n",
       "      <td>104</td>\n",
       "      <td>ni podatka</td>\n",
       "      <td>Luka_sama</td>\n",
       "    </tr>\n",
       "  </tbody>\n",
       "</table>\n",
       "</div>"
      ],
      "text/plain": [
       "                                   naslov  mesec  leto    jezik  \\\n",
       "765  Draco Malfoy y los héroes del Olimpo      8  2025  Español   \n",
       "\n",
       "     število besed  komentarji  kudos  bookmarks    hits  napisana poglavja  \\\n",
       "765         905336       13141   9378        354  335876                104   \n",
       "\n",
       "    vsa poglavja      avtor  \n",
       "765   ni podatka  Luka_sama  "
      ]
     },
     "execution_count": 338,
     "metadata": {},
     "output_type": "execute_result"
    }
   ],
   "source": [
    "dela[dela['jezik']=='Español']"
   ]
  },
  {
   "cell_type": "markdown",
   "id": "1da6f64c",
   "metadata": {},
   "source": [
    "Kot vidimo je le eno delo v španščini, vsa ostala so v angleščini. Glede na to, da smo zajeli le 1.000 najbolj priljubljenih del, to ni tako presenetljivo. Vseh del na to temo je namreč več kot pol milijona, na sami spletni strani pa lahko brez dodatnega iskanja dostopamo le do 100.000 del. Poleg tega je Harry Potter vseeno serija zahodnega sveta in je bila tudi v originalu napisana v angleščini, prav tao so v angleščini bili vsi filimi. Glede na to, da so bila dela zajeta glede na priljubljenost, raznolikosti v jezikih res ni mogoče pričakovati."
   ]
  },
  {
   "cell_type": "markdown",
   "id": "9e8cf7cb",
   "metadata": {},
   "source": [
    "### Čas nastanka\n",
    "\n",
    "Sama knjižna serija o mladem čarovniku je bila končana leta 2007, z izjemo dodatne knjige, ki je naknadno izšla leta 2016. Tudi filmi so nastali zgodaj, začeli so se namreč že pred zaključkom knjižne serije, zadnji pa je izšel leta 2011. Kljub temu je Harry Potter ostal dovolj popularen, da so fiktivna dela na to temo nastajala (in še nastajajo) dolgo po tem. Poglejmo si kako se je število nastalih del spreminjalo zadnja leta."
   ]
  },
  {
   "cell_type": "code",
   "execution_count": 339,
   "id": "aea4c6d1",
   "metadata": {},
   "outputs": [],
   "source": [
    "leta=dela['leto'].value_counts().to_frame()\n",
    "leta=leta.reset_index()"
   ]
  },
  {
   "cell_type": "code",
   "execution_count": 340,
   "id": "55bc60ac",
   "metadata": {},
   "outputs": [
    {
     "data": {
      "image/png": "[encoded data removed]",
      "text/plain": [
       "<Figure size 800x400 with 1 Axes>"
      ]
     },
     "metadata": {},
     "output_type": "display_data"
    }
   ],
   "source": [
    "l1=leta.sort_values('leto', ascending=True)\n",
    "plt.figure(figsize=(8,4))\n",
    "plt.bar(l1['leto'],l1['count'], color='#41e0c1',edgecolor='black')\n",
    "plt.ylabel('Število del')\n",
    "plt.grid(axis='y', linestyle='--', alpha=0.4)\n",
    "plt.tight_layout()\n",
    "xl=[i for i in range(2004,2026)]\n",
    "plt.xticks(xl,xl,rotation=60)\n",
    "plt.show()"
   ]
  },
  {
   "cell_type": "markdown",
   "id": "c5c7ccbb",
   "metadata": {},
   "source": [
    "Na grafu lahko opazimo kar nekaj očitnejših skokov. Prvi je med letoma 2006 in 2008, torej ravno po zaključku knjižne serije. Drugi, večji skok je po letu 2011, torej ravno ob koncu izida vseh filmov. Takrat je zgodba o Harryju Potterju dosegla dosti večjo množico ljudi, poleg tega pa dodala vsem ljubiteljem še dodatno vizualno predstavo krajev, likov in dogodkov, iz česar so nato najverjenteje črpali ideje za svoja fiktivna dela. \n",
    "\n",
    "Tretji večji skok je viden med letoma 2019 in 2020. Glede na to, da sama zgodba v tem času ni doživela kakšnega mejnika, je to najverjetneje posledica pandemije. Ljudje smo takrat v večini imeli več prostega časa kot sicer, poleg tega pa se je na družabnem omrežju TikTok v tem času razvila podskupina imenovana *BookTok*. Večina članov skupine je brala predvsem fantazijske knjige, delila mnenja in predloge, tako za otroke kot za odrasle. *BookTok* je postal dovolj popularen, da je imel vidne posledice v svetu prodaje knjig in vse več ljudi je v branju knjig našlo svoj hobi. Glede na te podatke bi si upala ugibati, da je ta preskok posledica pandemije in nastanka *BookTok*-a in bi najverjetneje podobno sliko dobili tudi pri ostalih dovolj znanih knjigah.\n",
    "\n",
    "Še zadnji presenetljiv podatek pa je za leto 2025, saj ga sploh še ni konec a je že na tretjem mestu po številu del. Ob tem se spomnimo, da datumi v resnici predstavlja zadnjo posodobitev oziroma objavo dela. To pomeni, da je najbrž dosti del, ki so bila nazadnje posodobljena letos, bilo v nastajanju že vsaj nekaj let prej in se bo število zadnjih posodobitev v letu 2025 s prihodom novega leta najverjetneje dosti zmanjšalo. Vseeno nam to da vedeti, da skoraj 20 let po izidu zadnje knjige fiktivna dela na temo te serije še vedno nastajajo in bodo najverjetneje nastajala še kar nekaj časa. \n",
    "\n",
    "Izvzemši podatke iz leta 2025, lahko vseeno opazimo trendno črto od leta 2021 naprej, ki je dovolj podobna tisti od 2016 naprej, do pandemije. Popularnost Harryja Potterja vseeno počasi zamira, najpopularnejša pa ostajajo dela iz preteklih let. "
   ]
  },
  {
   "cell_type": "markdown",
   "id": "52209518",
   "metadata": {},
   "source": [
    "V našo analizo časa dodajmo še mesece."
   ]
  },
  {
   "cell_type": "code",
   "execution_count": 341,
   "id": "9ff9bebf",
   "metadata": {},
   "outputs": [],
   "source": [
    "datum=dela[['mesec','leto']].copy()\n",
    "# ustvarimo kriterij, ki enolično določi leto in mesecc\n",
    "datum['skupaj']=datum['leto']*100+ datum['mesec']\n",
    "st=datum['skupaj'].value_counts().to_frame()\n",
    "st['leto']=st.index//100\n",
    "st['mesec']=st.index%100"
   ]
  },
  {
   "cell_type": "code",
   "execution_count": 342,
   "id": "be9079d7",
   "metadata": {},
   "outputs": [
    {
     "data": {
      "image/png": "[encoded data removed]",
      "text/plain": [
       "<Figure size 800x400 with 1 Axes>"
      ]
     },
     "metadata": {},
     "output_type": "display_data"
    }
   ],
   "source": [
    "plt.figure(figsize=(8,4))\n",
    "plt.scatter(st['leto'],st['mesec'], s=st['count'], color='#c4060c')\n",
    "yl=[i for i in range(1,13)]\n",
    "plt.grid(axis='y', linestyle='--', alpha=0.3)\n",
    "plt.ylabel('Mesec')\n",
    "plt.yticks(yl)\n",
    "plt.show()"
   ]
  },
  {
   "cell_type": "markdown",
   "id": "ad6c7faf",
   "metadata": {},
   "source": [
    "Vidimo lahko, da so dela nastajajo konstistentno že od leta 2014 vsak mesec. Opazen je tudi manjši porast del v decembru, za kar nekaj del tudi v poletnem času. Glede na to, da sta to tradicionalno meseca z največ počitnicami, dopusti ali praznik, ta podatek ni tako presenetljiv. Tudi na tem grafu vidimo navidezno porast del ne samo v tem letu, temveč celo v tem mesecu. Podobno kot na prejšnjem grafu je to najverjetneje posledica zadnjih posodobitev, zato podatki za preteklih nekaj mesecov niso najbolj informativni."
   ]
  },
  {
   "cell_type": "markdown",
   "id": "f8728253",
   "metadata": {},
   "source": [
    "### Avtorji"
   ]
  },
  {
   "cell_type": "markdown",
   "id": "3d5a22d9",
   "metadata": {},
   "source": [
    "Preverimo, kolikokrat se pojavijo avtorji, ki so lastniki več kot enega izmed prvih 1.000 del. "
   ]
  },
  {
   "cell_type": "code",
   "execution_count": 343,
   "id": "f786e577",
   "metadata": {},
   "outputs": [
    {
     "data": {
      "text/html": [
       "<div>\n",
       "<style scoped>\n",
       "    .dataframe tbody tr th:only-of-type {\n",
       "        vertical-align: middle;\n",
       "    }\n",
       "\n",
       "    .dataframe tbody tr th {\n",
       "        vertical-align: top;\n",
       "    }\n",
       "\n",
       "    .dataframe thead th {\n",
       "        text-align: right;\n",
       "    }\n",
       "</style>\n",
       "<table border=\"1\" class=\"dataframe\">\n",
       "  <thead>\n",
       "    <tr style=\"text-align: right;\">\n",
       "      <th></th>\n",
       "      <th>št. del</th>\n",
       "    </tr>\n",
       "    <tr>\n",
       "      <th>avtor</th>\n",
       "      <th></th>\n",
       "    </tr>\n",
       "  </thead>\n",
       "  <tbody>\n",
       "    <tr>\n",
       "      <th>Lomonaaeren</th>\n",
       "      <td>52</td>\n",
       "    </tr>\n",
       "    <tr>\n",
       "      <th>orphan_account</th>\n",
       "      <td>25</td>\n",
       "    </tr>\n",
       "    <tr>\n",
       "      <th>Faith Wood (faithwood)</th>\n",
       "      <td>17</td>\n",
       "    </tr>\n",
       "    <tr>\n",
       "      <th>dirgewithoutmusic</th>\n",
       "      <td>14</td>\n",
       "    </tr>\n",
       "    <tr>\n",
       "      <th>DebsTheSlytherinSnapeFan</th>\n",
       "      <td>13</td>\n",
       "    </tr>\n",
       "    <tr>\n",
       "      <th>...</th>\n",
       "      <td>...</td>\n",
       "    </tr>\n",
       "    <tr>\n",
       "      <th>Miss_Lv</th>\n",
       "      <td>2</td>\n",
       "    </tr>\n",
       "    <tr>\n",
       "      <th>worksofstone</th>\n",
       "      <td>2</td>\n",
       "    </tr>\n",
       "    <tr>\n",
       "      <th>Becstar7</th>\n",
       "      <td>2</td>\n",
       "    </tr>\n",
       "    <tr>\n",
       "      <th>Allegory_for_Hatred</th>\n",
       "      <td>2</td>\n",
       "    </tr>\n",
       "    <tr>\n",
       "      <th>Ailora</th>\n",
       "      <td>2</td>\n",
       "    </tr>\n",
       "  </tbody>\n",
       "</table>\n",
       "<p>141 rows × 1 columns</p>\n",
       "</div>"
      ],
      "text/plain": [
       "                          št. del\n",
       "avtor                            \n",
       "Lomonaaeren                    52\n",
       "orphan_account                 25\n",
       "Faith Wood (faithwood)         17\n",
       "dirgewithoutmusic              14\n",
       "DebsTheSlytherinSnapeFan       13\n",
       "...                           ...\n",
       "Miss_Lv                         2\n",
       "worksofstone                    2\n",
       "Becstar7                        2\n",
       "Allegory_for_Hatred             2\n",
       "Ailora                          2\n",
       "\n",
       "[141 rows x 1 columns]"
      ]
     },
     "execution_count": 343,
     "metadata": {},
     "output_type": "execute_result"
    }
   ],
   "source": [
    "avtorji=dela.value_counts('avtor').to_frame()\n",
    "avtorji=avtorji[avtorji['count']>1].copy()\n",
    "avtorji=avtorji.rename(columns={'count':'št. del'}) \n",
    "avtorji"
   ]
  },
  {
   "cell_type": "markdown",
   "id": "5deedd80",
   "metadata": {},
   "source": [
    "Avtor(ica) *Lomonaaeren* se poajvi občutno večkrat kot katerakoli druga oseba. Že od drugouvrščenega *orphan_acoount*-a ima več kot dvakrat toliko del, med najboljšimi 1.000 deli jih je napisal(a) kar 5 %. Oglejmo si dela te osebe še malo natančneje."
   ]
  },
  {
   "cell_type": "code",
   "execution_count": 344,
   "id": "0e920636",
   "metadata": {},
   "outputs": [
    {
     "data": {
      "text/html": [
       "<div>\n",
       "<style scoped>\n",
       "    .dataframe tbody tr th:only-of-type {\n",
       "        vertical-align: middle;\n",
       "    }\n",
       "\n",
       "    .dataframe tbody tr th {\n",
       "        vertical-align: top;\n",
       "    }\n",
       "\n",
       "    .dataframe thead th {\n",
       "        text-align: right;\n",
       "    }\n",
       "</style>\n",
       "<table border=\"1\" class=\"dataframe\">\n",
       "  <thead>\n",
       "    <tr style=\"text-align: right;\">\n",
       "      <th></th>\n",
       "      <th>naslov</th>\n",
       "      <th>mesec</th>\n",
       "      <th>leto</th>\n",
       "      <th>jezik</th>\n",
       "      <th>število besed</th>\n",
       "      <th>komentarji</th>\n",
       "      <th>kudos</th>\n",
       "      <th>bookmarks</th>\n",
       "      <th>hits</th>\n",
       "      <th>napisana poglavja</th>\n",
       "      <th>vsa poglavja</th>\n",
       "      <th>avtor</th>\n",
       "    </tr>\n",
       "  </thead>\n",
       "  <tbody>\n",
       "    <tr>\n",
       "      <th>101</th>\n",
       "      <td>Pythonicus</td>\n",
       "      <td>12</td>\n",
       "      <td>2020</td>\n",
       "      <td>English</td>\n",
       "      <td>44388</td>\n",
       "      <td>1253</td>\n",
       "      <td>24171</td>\n",
       "      <td>2485</td>\n",
       "      <td>205288</td>\n",
       "      <td>7</td>\n",
       "      <td>7</td>\n",
       "      <td>Lomonaaeren</td>\n",
       "    </tr>\n",
       "    <tr>\n",
       "      <th>111</th>\n",
       "      <td>Princeps</td>\n",
       "      <td>11</td>\n",
       "      <td>2019</td>\n",
       "      <td>English</td>\n",
       "      <td>11322</td>\n",
       "      <td>461</td>\n",
       "      <td>23561</td>\n",
       "      <td>3454</td>\n",
       "      <td>304636</td>\n",
       "      <td>3</td>\n",
       "      <td>3</td>\n",
       "      <td>Lomonaaeren</td>\n",
       "    </tr>\n",
       "    <tr>\n",
       "      <th>119</th>\n",
       "      <td>A Brother to Basilisks</td>\n",
       "      <td>8</td>\n",
       "      <td>2020</td>\n",
       "      <td>English</td>\n",
       "      <td>613877</td>\n",
       "      <td>7030</td>\n",
       "      <td>22701</td>\n",
       "      <td>6189</td>\n",
       "      <td>1164872</td>\n",
       "      <td>155</td>\n",
       "      <td>155</td>\n",
       "      <td>Lomonaaeren</td>\n",
       "    </tr>\n",
       "    <tr>\n",
       "      <th>127</th>\n",
       "      <td>Forget-Me-Not</td>\n",
       "      <td>7</td>\n",
       "      <td>2020</td>\n",
       "      <td>English</td>\n",
       "      <td>50776</td>\n",
       "      <td>849</td>\n",
       "      <td>21687</td>\n",
       "      <td>6199</td>\n",
       "      <td>272726</td>\n",
       "      <td>7</td>\n",
       "      <td>7</td>\n",
       "      <td>Lomonaaeren</td>\n",
       "    </tr>\n",
       "    <tr>\n",
       "      <th>141</th>\n",
       "      <td>The Onyx in Radiance</td>\n",
       "      <td>3</td>\n",
       "      <td>2023</td>\n",
       "      <td>English</td>\n",
       "      <td>116679</td>\n",
       "      <td>3093</td>\n",
       "      <td>20841</td>\n",
       "      <td>4669</td>\n",
       "      <td>545843</td>\n",
       "      <td>36</td>\n",
       "      <td>36</td>\n",
       "      <td>Lomonaaeren</td>\n",
       "    </tr>\n",
       "    <tr>\n",
       "      <th>...</th>\n",
       "      <td>...</td>\n",
       "      <td>...</td>\n",
       "      <td>...</td>\n",
       "      <td>...</td>\n",
       "      <td>...</td>\n",
       "      <td>...</td>\n",
       "      <td>...</td>\n",
       "      <td>...</td>\n",
       "      <td>...</td>\n",
       "      <td>...</td>\n",
       "      <td>...</td>\n",
       "      <td>...</td>\n",
       "    </tr>\n",
       "    <tr>\n",
       "      <th>863</th>\n",
       "      <td>The Willing</td>\n",
       "      <td>6</td>\n",
       "      <td>2024</td>\n",
       "      <td>English</td>\n",
       "      <td>60397</td>\n",
       "      <td>1253</td>\n",
       "      <td>8802</td>\n",
       "      <td>2195</td>\n",
       "      <td>171112</td>\n",
       "      <td>20</td>\n",
       "      <td>20</td>\n",
       "      <td>Lomonaaeren</td>\n",
       "    </tr>\n",
       "    <tr>\n",
       "      <th>874</th>\n",
       "      <td>Bonded Consort</td>\n",
       "      <td>7</td>\n",
       "      <td>2017</td>\n",
       "      <td>English</td>\n",
       "      <td>89650</td>\n",
       "      <td>1205</td>\n",
       "      <td>8744</td>\n",
       "      <td>2238</td>\n",
       "      <td>171146</td>\n",
       "      <td>29</td>\n",
       "      <td>29</td>\n",
       "      <td>Lomonaaeren</td>\n",
       "    </tr>\n",
       "    <tr>\n",
       "      <th>965</th>\n",
       "      <td>Casualties of Politics</td>\n",
       "      <td>4</td>\n",
       "      <td>2025</td>\n",
       "      <td>English</td>\n",
       "      <td>185341</td>\n",
       "      <td>2067</td>\n",
       "      <td>8287</td>\n",
       "      <td>2706</td>\n",
       "      <td>244003</td>\n",
       "      <td>29</td>\n",
       "      <td>105</td>\n",
       "      <td>Lomonaaeren</td>\n",
       "    </tr>\n",
       "    <tr>\n",
       "      <th>975</th>\n",
       "      <td>How Like Hatred</td>\n",
       "      <td>11</td>\n",
       "      <td>2019</td>\n",
       "      <td>English</td>\n",
       "      <td>9117</td>\n",
       "      <td>285</td>\n",
       "      <td>8195</td>\n",
       "      <td>912</td>\n",
       "      <td>122079</td>\n",
       "      <td>3</td>\n",
       "      <td>3</td>\n",
       "      <td>Lomonaaeren</td>\n",
       "    </tr>\n",
       "    <tr>\n",
       "      <th>986</th>\n",
       "      <td>Immaculate</td>\n",
       "      <td>6</td>\n",
       "      <td>2022</td>\n",
       "      <td>English</td>\n",
       "      <td>33312</td>\n",
       "      <td>470</td>\n",
       "      <td>8156</td>\n",
       "      <td>1654</td>\n",
       "      <td>100411</td>\n",
       "      <td>7</td>\n",
       "      <td>7</td>\n",
       "      <td>Lomonaaeren</td>\n",
       "    </tr>\n",
       "  </tbody>\n",
       "</table>\n",
       "<p>52 rows × 12 columns</p>\n",
       "</div>"
      ],
      "text/plain": [
       "                     naslov  mesec  leto    jezik  število besed  komentarji  \\\n",
       "101              Pythonicus     12  2020  English          44388        1253   \n",
       "111                Princeps     11  2019  English          11322         461   \n",
       "119  A Brother to Basilisks      8  2020  English         613877        7030   \n",
       "127           Forget-Me-Not      7  2020  English          50776         849   \n",
       "141    The Onyx in Radiance      3  2023  English         116679        3093   \n",
       "..                      ...    ...   ...      ...            ...         ...   \n",
       "863             The Willing      6  2024  English          60397        1253   \n",
       "874          Bonded Consort      7  2017  English          89650        1205   \n",
       "965  Casualties of Politics      4  2025  English         185341        2067   \n",
       "975         How Like Hatred     11  2019  English           9117         285   \n",
       "986              Immaculate      6  2022  English          33312         470   \n",
       "\n",
       "     kudos  bookmarks     hits  napisana poglavja vsa poglavja        avtor  \n",
       "101  24171       2485   205288                  7            7  Lomonaaeren  \n",
       "111  23561       3454   304636                  3            3  Lomonaaeren  \n",
       "119  22701       6189  1164872                155          155  Lomonaaeren  \n",
       "127  21687       6199   272726                  7            7  Lomonaaeren  \n",
       "141  20841       4669   545843                 36           36  Lomonaaeren  \n",
       "..     ...        ...      ...                ...          ...          ...  \n",
       "863   8802       2195   171112                 20           20  Lomonaaeren  \n",
       "874   8744       2238   171146                 29           29  Lomonaaeren  \n",
       "965   8287       2706   244003                 29          105  Lomonaaeren  \n",
       "975   8195        912   122079                  3            3  Lomonaaeren  \n",
       "986   8156       1654   100411                  7            7  Lomonaaeren  \n",
       "\n",
       "[52 rows x 12 columns]"
      ]
     },
     "execution_count": 344,
     "metadata": {},
     "output_type": "execute_result"
    }
   ],
   "source": [
    "Lomonaaeren=dela[dela['avtor']=='Lomonaaeren'].copy()\n",
    "Lomonaaeren"
   ]
  },
  {
   "cell_type": "markdown",
   "id": "0bb19024",
   "metadata": {},
   "source": [
    "Kot lahko vidimo, se dela te osebe raztezajo po celotni lestvici najboljših 1.000, kar je zelo pohavlno v *fandomu*, kjer je napisanih več kot pol milijona fiktivnih zgodb."
   ]
  },
  {
   "cell_type": "code",
   "execution_count": 345,
   "id": "4d0baa29",
   "metadata": {},
   "outputs": [
    {
     "name": "stdout",
     "output_type": "stream",
     "text": [
      "Avtor(ica) Lomonaaeren je svoje najstarejše delo končal(a) leta 2012, svoje najnovejše delo pa je nazadnje posodobil(a) leta 2025.\n"
     ]
    }
   ],
   "source": [
    "M=Lomonaaeren.max(axis=0)['leto']\n",
    "m=Lomonaaeren.min(axis=0)['leto']\n",
    "print(f'Avtor(ica) Lomonaaeren je svoje najstarejše delo končal(a) leta {m}, svoje najnovejše delo pa je nazadnje posodobil(a) leta {M}.')"
   ]
  },
  {
   "cell_type": "markdown",
   "id": "2c0d5251",
   "metadata": {},
   "source": [
    "Na podlagi teh podatkov lahko definitvno rečemo, da je oseba za tem uporabniškim imenom zelo zagreta za serijo Harry Potter. Izjemno priljubljene zgodbe na to temo piše vsaj trinajst let in glede na to, da je zadnja posodobitev bila še letos, se po trinajstih letih najbrž še ne bo ustavila."
   ]
  },
  {
   "cell_type": "markdown",
   "id": "64266ac0",
   "metadata": {},
   "source": [
    "Posebej si oglejmo še avtorje, ki so želeli ostati anonimni. Ti imajo v stolpcu *avtor* zapisano vrenost *'ni podatka'*."
   ]
  },
  {
   "cell_type": "code",
   "execution_count": 346,
   "id": "ab119f2f",
   "metadata": {},
   "outputs": [
    {
     "data": {
      "text/html": [
       "<div>\n",
       "<style scoped>\n",
       "    .dataframe tbody tr th:only-of-type {\n",
       "        vertical-align: middle;\n",
       "    }\n",
       "\n",
       "    .dataframe tbody tr th {\n",
       "        vertical-align: top;\n",
       "    }\n",
       "\n",
       "    .dataframe thead th {\n",
       "        text-align: right;\n",
       "    }\n",
       "</style>\n",
       "<table border=\"1\" class=\"dataframe\">\n",
       "  <thead>\n",
       "    <tr style=\"text-align: right;\">\n",
       "      <th></th>\n",
       "      <th>naslov</th>\n",
       "      <th>mesec</th>\n",
       "      <th>leto</th>\n",
       "      <th>jezik</th>\n",
       "      <th>število besed</th>\n",
       "      <th>komentarji</th>\n",
       "      <th>kudos</th>\n",
       "      <th>bookmarks</th>\n",
       "      <th>hits</th>\n",
       "      <th>napisana poglavja</th>\n",
       "      <th>vsa poglavja</th>\n",
       "      <th>avtor</th>\n",
       "    </tr>\n",
       "  </thead>\n",
       "  <tbody>\n",
       "    <tr>\n",
       "      <th>434</th>\n",
       "      <td>Old Haunts (Are For Forgotten Ghosts)</td>\n",
       "      <td>4</td>\n",
       "      <td>2021</td>\n",
       "      <td>English</td>\n",
       "      <td>40000</td>\n",
       "      <td>417</td>\n",
       "      <td>12335</td>\n",
       "      <td>2754</td>\n",
       "      <td>141449</td>\n",
       "      <td>4</td>\n",
       "      <td>4</td>\n",
       "      <td>ni podatka</td>\n",
       "    </tr>\n",
       "    <tr>\n",
       "      <th>704</th>\n",
       "      <td>the best laid plans</td>\n",
       "      <td>8</td>\n",
       "      <td>2022</td>\n",
       "      <td>English</td>\n",
       "      <td>39181</td>\n",
       "      <td>851</td>\n",
       "      <td>9739</td>\n",
       "      <td>2838</td>\n",
       "      <td>122313</td>\n",
       "      <td>7</td>\n",
       "      <td>ni podatka</td>\n",
       "      <td>ni podatka</td>\n",
       "    </tr>\n",
       "    <tr>\n",
       "      <th>760</th>\n",
       "      <td>Five Times They Weren't, and One Time They Tot...</td>\n",
       "      <td>11</td>\n",
       "      <td>2016</td>\n",
       "      <td>English</td>\n",
       "      <td>3466</td>\n",
       "      <td>180</td>\n",
       "      <td>9399</td>\n",
       "      <td>1623</td>\n",
       "      <td>79085</td>\n",
       "      <td>6</td>\n",
       "      <td>6</td>\n",
       "      <td>ni podatka</td>\n",
       "    </tr>\n",
       "  </tbody>\n",
       "</table>\n",
       "</div>"
      ],
      "text/plain": [
       "                                                naslov  mesec  leto    jezik  \\\n",
       "434              Old Haunts (Are For Forgotten Ghosts)      4  2021  English   \n",
       "704                                the best laid plans      8  2022  English   \n",
       "760  Five Times They Weren't, and One Time They Tot...     11  2016  English   \n",
       "\n",
       "     število besed  komentarji  kudos  bookmarks    hits  napisana poglavja  \\\n",
       "434          40000         417  12335       2754  141449                  4   \n",
       "704          39181         851   9739       2838  122313                  7   \n",
       "760           3466         180   9399       1623   79085                  6   \n",
       "\n",
       "    vsa poglavja       avtor  \n",
       "434            4  ni podatka  \n",
       "704   ni podatka  ni podatka  \n",
       "760            6  ni podatka  "
      ]
     },
     "execution_count": 346,
     "metadata": {},
     "output_type": "execute_result"
    }
   ],
   "source": [
    "dela[dela['avtor']=='ni podatka']"
   ]
  },
  {
   "cell_type": "markdown",
   "id": "790f9878",
   "metadata": {},
   "source": [
    "Anonimni so želeli ostati le trije avtorji, pri analizi števila avtorjev, ki imajo več kot eno delo na lestvici najboljših 1.000, pa jih bomo izpustili, saj najverjetneje ne gre za isto osebo."
   ]
  },
  {
   "cell_type": "code",
   "execution_count": 347,
   "id": "32f4478f",
   "metadata": {},
   "outputs": [],
   "source": [
    "avtorji=avtorji[avtorji.index!='ni podatka'].copy()\n",
    "avtorji['na 5']=avtorji['št. del']- avtorji['št. del']%5\n",
    "d5=avtorji.value_counts('na 5').to_frame()"
   ]
  },
  {
   "cell_type": "code",
   "execution_count": 348,
   "id": "d2c9b7ad",
   "metadata": {},
   "outputs": [
    {
     "data": {
      "image/png": "[encoded data removed]",
      "text/plain": [
       "<Figure size 600x400 with 1 Axes>"
      ]
     },
     "metadata": {},
     "output_type": "display_data"
    }
   ],
   "source": [
    "plt.figure(figsize=(6,4))\n",
    "plt.bar(d5.index,d5['count'], width=3, color='#f03af0', edgecolor='black')\n",
    "plt.xlabel('Število del')\n",
    "plt.ylabel('Število avtorjev')\n",
    "imena=['2-4','5-9','10-14','15-19','20-24','25-29','30-34','35-39','40-44','45-49','50-54']\n",
    "pozicije=[i for i in range(0,51) if i%5==0]\n",
    "plt.xticks(pozicije, imena, rotation=60)\n",
    "plt.tight_layout()\n",
    "plt.show()"
   ]
  },
  {
   "cell_type": "code",
   "execution_count": 349,
   "id": "3bb5dbf1",
   "metadata": {},
   "outputs": [
    {
     "name": "stdout",
     "output_type": "stream",
     "text": [
      "Avtorjev, ki imajo med prvih 1000 del le eno delo, je 401, tistih, ki jih iamjo več pa 140.\n",
      "    SKupaj je za prvih 1000 del o Harryju Potterju odgovornih 541 avtorjev.\n"
     ]
    }
   ],
   "source": [
    "po_1= 1000 - avtorji['št. del'].sum()\n",
    "več=len(avtorji)\n",
    "print(f\"\"\"Avtorjev, ki imajo med prvih 1000 del le eno delo, je {po_1}, tistih, ki jih iamjo več pa {več}.\n",
    "    SKupaj je za prvih 1000 del o Harryju Potterju odgovornih {po_1+več} avtorjev.\"\"\")"
   ]
  },
  {
   "cell_type": "markdown",
   "id": "1d6e6484",
   "metadata": {},
   "source": [
    "Kot vse kaže, imeti več kot eno delo med prvimi 1.000, ni takšna redkost med avtorji teh del. Kakor hitro mejo iz enega dela dvignemo na pet, pa nam ostane le peščica avtorjev."
   ]
  },
  {
   "cell_type": "markdown",
   "id": "2aea38ad",
   "metadata": {},
   "source": [
    "### Število besed in poglavij\n",
    "\n",
    "Poglejmo si, koliko del je končanih (število napisanih pogalvij je enako številu vseh poglavij) in povprečno število besed na poglavje."
   ]
  },
  {
   "cell_type": "code",
   "execution_count": 350,
   "id": "2d1ab5f8",
   "metadata": {},
   "outputs": [],
   "source": [
    "# Dodajmo stolpec, ki določi status dela (končano / nekončano)\n",
    "def status(x,y):\n",
    "    if x=='ni podatka':\n",
    "        return 'nekončano'\n",
    "    x=int(x)\n",
    "    if x==y:\n",
    "        return 'končano'\n",
    "    return 'nekončano'\n",
    "dela['status']=dela.apply(lambda x: status(x['vsa poglavja'],x['napisana poglavja']), axis=1 )\n",
    "stat=dela.value_counts('status').to_frame()"
   ]
  },
  {
   "cell_type": "code",
   "execution_count": 351,
   "id": "7c54e9b6",
   "metadata": {},
   "outputs": [
    {
     "data": {
      "image/png": "[encoded data removed]",
      "text/plain": [
       "<Figure size 400x400 with 1 Axes>"
      ]
     },
     "metadata": {},
     "output_type": "display_data"
    }
   ],
   "source": [
    "plt.figure(figsize=(4,4))\n",
    "plt.pie(stat['count'], labels=stat.index, autopct='%1.1f%%', colors=['#f252a5','#52f26d'])\n",
    "plt.show()"
   ]
  },
  {
   "cell_type": "markdown",
   "id": "c950dca4",
   "metadata": {},
   "source": [
    "Glede na starost same serije in prejšnjih rezultatov o najbolj produktivnih letih, ta rezultat ni tako presenetljiv. Sicer je res, da nekateri avtorji napovejo več poglavij in jih nato nikoli ne končajo, ali pa poglavij sploh ne napovejo in nato čez čas izgubijo motivacijo ter delo na njih opustijo. Takšni primeri so tukaj bili prešteti pod nekončana dela. Po drugi strani pa drugi avtorji sproti povečujejo število vseh poglavij na toliko, kolikor so jih tudi napisali. Ti so v tem primeru bili prešteti pod končana dela, tako da so napake pri štetju najverjetneje na obeh straneh in mamo kljub vsemu dovolj natančen rezultat."
   ]
  },
  {
   "cell_type": "markdown",
   "id": "1abf85be",
   "metadata": {},
   "source": [
    "Poglejmo si kako povprečno število besed na poglavje vpliva na priljubljenost dela."
   ]
  },
  {
   "cell_type": "code",
   "execution_count": 352,
   "id": "ac1efb0a",
   "metadata": {},
   "outputs": [],
   "source": [
    "dela['povpr. besed']=dela.apply(lambda x: round((x['število besed']/x['napisana poglavja']),0), axis=1)"
   ]
  },
  {
   "cell_type": "code",
   "execution_count": 353,
   "id": "1831d99c",
   "metadata": {},
   "outputs": [
    {
     "data": {
      "image/png": "[encoded data removed]",
      "text/plain": [
       "<Figure size 500x200 with 1 Axes>"
      ]
     },
     "metadata": {},
     "output_type": "display_data"
    }
   ],
   "source": [
    "plt.figure(figsize=(5,2))\n",
    "plt.scatter(dela['kudos'],dela['povpr. besed'],s=5, color='#208a19')\n",
    "plt.show()"
   ]
  },
  {
   "cell_type": "code",
   "execution_count": 354,
   "id": "b40d4558",
   "metadata": {},
   "outputs": [
    {
     "data": {
      "text/html": [
       "<div>\n",
       "<style scoped>\n",
       "    .dataframe tbody tr th:only-of-type {\n",
       "        vertical-align: middle;\n",
       "    }\n",
       "\n",
       "    .dataframe tbody tr th {\n",
       "        vertical-align: top;\n",
       "    }\n",
       "\n",
       "    .dataframe thead th {\n",
       "        text-align: right;\n",
       "    }\n",
       "</style>\n",
       "<table border=\"1\" class=\"dataframe\">\n",
       "  <thead>\n",
       "    <tr style=\"text-align: right;\">\n",
       "      <th></th>\n",
       "      <th>naslov</th>\n",
       "      <th>mesec</th>\n",
       "      <th>leto</th>\n",
       "      <th>jezik</th>\n",
       "      <th>število besed</th>\n",
       "      <th>komentarji</th>\n",
       "      <th>kudos</th>\n",
       "      <th>bookmarks</th>\n",
       "      <th>hits</th>\n",
       "      <th>napisana poglavja</th>\n",
       "      <th>vsa poglavja</th>\n",
       "      <th>avtor</th>\n",
       "      <th>status</th>\n",
       "      <th>povpr. besed</th>\n",
       "    </tr>\n",
       "  </thead>\n",
       "  <tbody>\n",
       "    <tr>\n",
       "      <th>1</th>\n",
       "      <td>All the Young Dudes</td>\n",
       "      <td>11</td>\n",
       "      <td>2018</td>\n",
       "      <td>English</td>\n",
       "      <td>526969</td>\n",
       "      <td>44487</td>\n",
       "      <td>276722</td>\n",
       "      <td>49336</td>\n",
       "      <td>18157885</td>\n",
       "      <td>188</td>\n",
       "      <td>188</td>\n",
       "      <td>MsKingBean89</td>\n",
       "      <td>končano</td>\n",
       "      <td>2803.0</td>\n",
       "    </tr>\n",
       "  </tbody>\n",
       "</table>\n",
       "</div>"
      ],
      "text/plain": [
       "                naslov  mesec  leto    jezik  število besed  komentarji  \\\n",
       "1  All the Young Dudes     11  2018  English         526969       44487   \n",
       "\n",
       "    kudos  bookmarks      hits  napisana poglavja vsa poglavja         avtor  \\\n",
       "1  276722      49336  18157885                188          188  MsKingBean89   \n",
       "\n",
       "    status  povpr. besed  \n",
       "1  končano        2803.0  "
      ]
     },
     "execution_count": 354,
     "metadata": {},
     "output_type": "execute_result"
    }
   ],
   "source": [
    "dela[dela['kudos']>200000]"
   ]
  },
  {
   "cell_type": "markdown",
   "id": "a75871c7",
   "metadata": {},
   "source": [
    "Delo, ki ima občutno več *kudosov* kot katerokoli drugo, je fiktivna zgdoba **All the Young Dudes**. Ta je med ljubitelji zgodbe o Harryju Potterju postala tako znana, da si jo je mogoče dati natisniti in zvezati, zanjo pa obstajajo tudi \"originalne\" platnice. Da bo naš graf bolj informativen, bomo to delo izpustili."
   ]
  },
  {
   "cell_type": "code",
   "execution_count": 355,
   "id": "c4dc73e9",
   "metadata": {},
   "outputs": [
    {
     "data": {
      "text/html": [
       "<div>\n",
       "<style scoped>\n",
       "    .dataframe tbody tr th:only-of-type {\n",
       "        vertical-align: middle;\n",
       "    }\n",
       "\n",
       "    .dataframe tbody tr th {\n",
       "        vertical-align: top;\n",
       "    }\n",
       "\n",
       "    .dataframe thead th {\n",
       "        text-align: right;\n",
       "    }\n",
       "</style>\n",
       "<table border=\"1\" class=\"dataframe\">\n",
       "  <thead>\n",
       "    <tr style=\"text-align: right;\">\n",
       "      <th></th>\n",
       "      <th>naslov</th>\n",
       "      <th>mesec</th>\n",
       "      <th>leto</th>\n",
       "      <th>jezik</th>\n",
       "      <th>število besed</th>\n",
       "      <th>komentarji</th>\n",
       "      <th>kudos</th>\n",
       "      <th>bookmarks</th>\n",
       "      <th>hits</th>\n",
       "      <th>napisana poglavja</th>\n",
       "      <th>vsa poglavja</th>\n",
       "      <th>avtor</th>\n",
       "      <th>status</th>\n",
       "      <th>povpr. besed</th>\n",
       "    </tr>\n",
       "  </thead>\n",
       "  <tbody>\n",
       "    <tr>\n",
       "      <th>837</th>\n",
       "      <td>The Breeding Ground</td>\n",
       "      <td>2</td>\n",
       "      <td>2025</td>\n",
       "      <td>English</td>\n",
       "      <td>3176981</td>\n",
       "      <td>859</td>\n",
       "      <td>8952</td>\n",
       "      <td>1384</td>\n",
       "      <td>4156135</td>\n",
       "      <td>2</td>\n",
       "      <td>2</td>\n",
       "      <td>megamatt09</td>\n",
       "      <td>končano</td>\n",
       "      <td>1588490.0</td>\n",
       "    </tr>\n",
       "  </tbody>\n",
       "</table>\n",
       "</div>"
      ],
      "text/plain": [
       "                  naslov  mesec  leto    jezik  število besed  komentarji  \\\n",
       "837  The Breeding Ground      2  2025  English        3176981         859   \n",
       "\n",
       "     kudos  bookmarks     hits  napisana poglavja vsa poglavja       avtor  \\\n",
       "837   8952       1384  4156135                  2            2  megamatt09   \n",
       "\n",
       "      status  povpr. besed  \n",
       "837  končano     1588490.0  "
      ]
     },
     "execution_count": 355,
     "metadata": {},
     "output_type": "execute_result"
    }
   ],
   "source": [
    "dela[dela['povpr. besed']>200000]"
   ]
  },
  {
   "cell_type": "code",
   "execution_count": 356,
   "id": "09013d34",
   "metadata": {},
   "outputs": [],
   "source": [
    "# pripravimo manjšo tabelo besed in kudosov\n",
    "bk=dela[['kudos','povpr. besed']].copy()\n",
    "bk.drop(837, axis='index', inplace=True)\n",
    "bk.drop(1, axis='index', inplace=True)"
   ]
  },
  {
   "cell_type": "code",
   "execution_count": 357,
   "id": "617172a4",
   "metadata": {},
   "outputs": [
    {
     "data": {
      "image/png": "[encoded data removed]",
      "text/plain": [
       "<Figure size 600x400 with 1 Axes>"
      ]
     },
     "metadata": {},
     "output_type": "display_data"
    }
   ],
   "source": [
    "plt.figure(figsize=(6,4))\n",
    "plt.scatter(bk['kudos'], bk['povpr. besed'], s=3, color='#e08a19')\n",
    "plt.ylabel('Število besed na poglavje')\n",
    "plt.grid(axis='both', linestyle='--', alpha=0.3)\n",
    "plt.show()"
   ]
  },
  {
   "cell_type": "markdown",
   "id": "afbcf511",
   "metadata": {},
   "source": [
    "Opazimo, da ima večina del v povprečju do 10.000 besed na poglavje. Dela z občutno več besedami so večinoma tudi manj priljubljena.\n",
    "\n",
    "Sedaj naredimo podobno primerjavo, tokrat s številom poglavij (upoštevamo že napisana poglavja)."
   ]
  },
  {
   "cell_type": "code",
   "execution_count": 358,
   "id": "b7bed339",
   "metadata": {},
   "outputs": [
    {
     "data": {
      "text/html": [
       "<div>\n",
       "<style scoped>\n",
       "    .dataframe tbody tr th:only-of-type {\n",
       "        vertical-align: middle;\n",
       "    }\n",
       "\n",
       "    .dataframe tbody tr th {\n",
       "        vertical-align: top;\n",
       "    }\n",
       "\n",
       "    .dataframe thead th {\n",
       "        text-align: right;\n",
       "    }\n",
       "</style>\n",
       "<table border=\"1\" class=\"dataframe\">\n",
       "  <thead>\n",
       "    <tr style=\"text-align: right;\">\n",
       "      <th></th>\n",
       "      <th>naslov</th>\n",
       "      <th>napisana poglavja</th>\n",
       "      <th>kudos</th>\n",
       "    </tr>\n",
       "  </thead>\n",
       "  <tbody>\n",
       "    <tr>\n",
       "      <th>378</th>\n",
       "      <td>Certain Dark Things</td>\n",
       "      <td>306</td>\n",
       "      <td>13262</td>\n",
       "    </tr>\n",
       "    <tr>\n",
       "      <th>683</th>\n",
       "      <td>For Want of an Outfit</td>\n",
       "      <td>271</td>\n",
       "      <td>9932</td>\n",
       "    </tr>\n",
       "    <tr>\n",
       "      <th>880</th>\n",
       "      <td>if wishes were thestrals (muggles would ride)</td>\n",
       "      <td>435</td>\n",
       "      <td>8694</td>\n",
       "    </tr>\n",
       "  </tbody>\n",
       "</table>\n",
       "</div>"
      ],
      "text/plain": [
       "                                            naslov  napisana poglavja  kudos\n",
       "378                            Certain Dark Things                306  13262\n",
       "683                          For Want of an Outfit                271   9932\n",
       "880  if wishes were thestrals (muggles would ride)                435   8694"
      ]
     },
     "execution_count": 358,
     "metadata": {},
     "output_type": "execute_result"
    }
   ],
   "source": [
    "# pripravimo manjšo tabelo poglavij in kudosov\n",
    "pk=dela[['naslov','napisana poglavja','kudos']].copy()\n",
    "pk.drop(1,axis='index',inplace=True)\n",
    "pk[pk['napisana poglavja']>200]"
   ]
  },
  {
   "cell_type": "markdown",
   "id": "c9016d78",
   "metadata": {},
   "source": [
    "Znova zaradi močnega odstopanja odstranimo kritična dela iz baze podatkov."
   ]
  },
  {
   "cell_type": "code",
   "execution_count": 359,
   "id": "c1e5f5bb",
   "metadata": {},
   "outputs": [
    {
     "data": {
      "image/png": "[encoded data removed]",
      "text/plain": [
       "<Figure size 600x400 with 1 Axes>"
      ]
     },
     "metadata": {},
     "output_type": "display_data"
    }
   ],
   "source": [
    "pk=pk[pk['napisana poglavja']<=200]\n",
    "plt.figure(figsize=(6,4))\n",
    "plt.scatter(pk['kudos'],pk['napisana poglavja'], s=3, color='#bc1dc2')\n",
    "plt.grid(axis='both',linestyle='--', alpha=0.3)\n",
    "plt.ylabel('Število poglavij')\n",
    "plt.show()"
   ]
  },
  {
   "cell_type": "markdown",
   "id": "2fd03807",
   "metadata": {},
   "source": [
    "Velika večina fiktivnih zgodb ima manj kot 50 poglavij, ne izgleda pa, da bi to vplivalo na priljubljenost dela. Med bolj priljubljenimi se v dokaj enaki meri znajdejo tako dela z manj, kot tudi z več kot 50 poglavij."
   ]
  },
  {
   "cell_type": "markdown",
   "id": "87e8bb1c",
   "metadata": {},
   "source": [
    "### Komentarji, obiskanost in shranjenost\n",
    "\n",
    "Poglejmo si še, kako se interkacije bralcev z delom ujema z njegovo uspešnostjo. Pri tem pod interakcije štejemo komentarje, shranjevanje del (*bookmarks*) in obiskovanje dela (*hits*), uspešnost pa merimo z všečki (*kudos*)."
   ]
  },
  {
   "cell_type": "code",
   "execution_count": 365,
   "id": "a00fcba2",
   "metadata": {},
   "outputs": [
    {
     "data": {
      "text/html": [
       "<div>\n",
       "<style scoped>\n",
       "    .dataframe tbody tr th:only-of-type {\n",
       "        vertical-align: middle;\n",
       "    }\n",
       "\n",
       "    .dataframe tbody tr th {\n",
       "        vertical-align: top;\n",
       "    }\n",
       "\n",
       "    .dataframe thead th {\n",
       "        text-align: right;\n",
       "    }\n",
       "</style>\n",
       "<table border=\"1\" class=\"dataframe\">\n",
       "  <thead>\n",
       "    <tr style=\"text-align: right;\">\n",
       "      <th></th>\n",
       "      <th>naslov</th>\n",
       "      <th>komentarji</th>\n",
       "    </tr>\n",
       "  </thead>\n",
       "  <tbody>\n",
       "    <tr>\n",
       "      <th>1</th>\n",
       "      <td>All the Young Dudes</td>\n",
       "      <td>44487</td>\n",
       "    </tr>\n",
       "    <tr>\n",
       "      <th>123</th>\n",
       "      <td>snipers solve 99% of all problems</td>\n",
       "      <td>19268</td>\n",
       "    </tr>\n",
       "    <tr>\n",
       "      <th>65</th>\n",
       "      <td>Holly Potter and the Midlife Crisis</td>\n",
       "      <td>17762</td>\n",
       "    </tr>\n",
       "    <tr>\n",
       "      <th>54</th>\n",
       "      <td>The Contract</td>\n",
       "      <td>16555</td>\n",
       "    </tr>\n",
       "    <tr>\n",
       "      <th>10</th>\n",
       "      <td>survival is a talent</td>\n",
       "      <td>15601</td>\n",
       "    </tr>\n",
       "  </tbody>\n",
       "</table>\n",
       "</div>"
      ],
      "text/plain": [
       "                                  naslov  komentarji\n",
       "1                    All the Young Dudes       44487\n",
       "123    snipers solve 99% of all problems       19268\n",
       "65   Holly Potter and the Midlife Crisis       17762\n",
       "54                          The Contract       16555\n",
       "10                  survival is a talent       15601"
      ]
     },
     "metadata": {},
     "output_type": "display_data"
    },
    {
     "data": {
      "text/html": [
       "<div>\n",
       "<style scoped>\n",
       "    .dataframe tbody tr th:only-of-type {\n",
       "        vertical-align: middle;\n",
       "    }\n",
       "\n",
       "    .dataframe tbody tr th {\n",
       "        vertical-align: top;\n",
       "    }\n",
       "\n",
       "    .dataframe thead th {\n",
       "        text-align: right;\n",
       "    }\n",
       "</style>\n",
       "<table border=\"1\" class=\"dataframe\">\n",
       "  <thead>\n",
       "    <tr style=\"text-align: right;\">\n",
       "      <th></th>\n",
       "      <th>naslov</th>\n",
       "      <th>bookmarks</th>\n",
       "    </tr>\n",
       "  </thead>\n",
       "  <tbody>\n",
       "    <tr>\n",
       "      <th>1</th>\n",
       "      <td>All the Young Dudes</td>\n",
       "      <td>49336</td>\n",
       "    </tr>\n",
       "    <tr>\n",
       "      <th>2</th>\n",
       "      <td>Draco Malfoy and the Mortifying Ordeal of Bein...</td>\n",
       "      <td>27901</td>\n",
       "    </tr>\n",
       "    <tr>\n",
       "      <th>4</th>\n",
       "      <td>Lily's Boy</td>\n",
       "      <td>22793</td>\n",
       "    </tr>\n",
       "    <tr>\n",
       "      <th>3</th>\n",
       "      <td>Evitative</td>\n",
       "      <td>21865</td>\n",
       "    </tr>\n",
       "    <tr>\n",
       "      <th>8</th>\n",
       "      <td>Running on Air</td>\n",
       "      <td>21195</td>\n",
       "    </tr>\n",
       "  </tbody>\n",
       "</table>\n",
       "</div>"
      ],
      "text/plain": [
       "                                              naslov  bookmarks\n",
       "1                                All the Young Dudes      49336\n",
       "2  Draco Malfoy and the Mortifying Ordeal of Bein...      27901\n",
       "4                                         Lily's Boy      22793\n",
       "3                                          Evitative      21865\n",
       "8                                     Running on Air      21195"
      ]
     },
     "metadata": {},
     "output_type": "display_data"
    },
    {
     "data": {
      "text/html": [
       "<div>\n",
       "<style scoped>\n",
       "    .dataframe tbody tr th:only-of-type {\n",
       "        vertical-align: middle;\n",
       "    }\n",
       "\n",
       "    .dataframe tbody tr th {\n",
       "        vertical-align: top;\n",
       "    }\n",
       "\n",
       "    .dataframe thead th {\n",
       "        text-align: right;\n",
       "    }\n",
       "</style>\n",
       "<table border=\"1\" class=\"dataframe\">\n",
       "  <thead>\n",
       "    <tr style=\"text-align: right;\">\n",
       "      <th></th>\n",
       "      <th>naslov</th>\n",
       "      <th>hits</th>\n",
       "    </tr>\n",
       "  </thead>\n",
       "  <tbody>\n",
       "    <tr>\n",
       "      <th>1</th>\n",
       "      <td>All the Young Dudes</td>\n",
       "      <td>18157885</td>\n",
       "    </tr>\n",
       "    <tr>\n",
       "      <th>2</th>\n",
       "      <td>Draco Malfoy and the Mortifying Ordeal of Bein...</td>\n",
       "      <td>4707503</td>\n",
       "    </tr>\n",
       "    <tr>\n",
       "      <th>4</th>\n",
       "      <td>Lily's Boy</td>\n",
       "      <td>4530812</td>\n",
       "    </tr>\n",
       "    <tr>\n",
       "      <th>837</th>\n",
       "      <td>The Breeding Ground</td>\n",
       "      <td>4156135</td>\n",
       "    </tr>\n",
       "    <tr>\n",
       "      <th>46</th>\n",
       "      <td>Measure Of A Man</td>\n",
       "      <td>3788689</td>\n",
       "    </tr>\n",
       "  </tbody>\n",
       "</table>\n",
       "</div>"
      ],
      "text/plain": [
       "                                                naslov      hits\n",
       "1                                  All the Young Dudes  18157885\n",
       "2    Draco Malfoy and the Mortifying Ordeal of Bein...   4707503\n",
       "4                                           Lily's Boy   4530812\n",
       "837                                The Breeding Ground   4156135\n",
       "46                                    Measure Of A Man   3788689"
      ]
     },
     "metadata": {},
     "output_type": "display_data"
    }
   ],
   "source": [
    "manjša=dela[['naslov','komentarji','bookmarks','hits','kudos']].copy()\n",
    "ko=manjša.sort_values('komentarji',ascending=False).head(5)\n",
    "bo=manjša.sort_values('bookmarks',ascending=False).head(5)\n",
    "hi=manjša.sort_values('hits',ascending=False).head(5)\n",
    "display(ko[['naslov','komentarji']], bo[['naslov','bookmarks']], hi[['naslov','hits']])"
   ]
  },
  {
   "cell_type": "markdown",
   "id": "7ec85620",
   "metadata": {},
   "source": [
    "Razen izjeme, ki se pojavlja že ves čas, torej dela **All the Young Dudes**, se na prvi pogled vse tri tabele, ki predstavljajo drugačen način interakcije z objavljenim delom, precej razlikujejo. Za boljšo predstavo bomo iz podatkov zopet izvzeli najbolj priljubljeno iz med del, nato pa na grafih predstavili število interakcij v odvisnosti od popularnosti dela."
   ]
  },
  {
   "cell_type": "code",
   "execution_count": 366,
   "id": "a26944b6",
   "metadata": {},
   "outputs": [],
   "source": [
    "manjša.drop(1,axis='index', inplace=True)"
   ]
  },
  {
   "cell_type": "code",
   "execution_count": 367,
   "id": "277c1d29",
   "metadata": {},
   "outputs": [
    {
     "data": {
      "image/png": "[encoded data removed]",
      "text/plain": [
       "<Figure size 1600x400 with 3 Axes>"
      ]
     },
     "metadata": {},
     "output_type": "display_data"
    }
   ],
   "source": [
    "figure, (a1,a2,a3)=plt.subplots(1,3,figsize=(16,4))\n",
    "manjša.plot(kind='scatter',x='kudos',y='komentarji',s=3, ax=a1,title='Komentarji',ylabel='', color='#b82862')\n",
    "manjša.plot(kind='scatter',x='kudos',y='bookmarks',s=3, ax=a2, title='Bookmarks (Shranjeno)', ylabel='', color='#2d2bab')\n",
    "manjša.plot(kind='scatter',x='kudos',y='hits',s=3, ax=a3, title='Hits (Obiskano)', ylabel='',color='#0ba136')\n",
    "plt.show()"
   ]
  },
  {
   "cell_type": "markdown",
   "id": "7400c138",
   "metadata": {},
   "source": [
    "Trendu naraščanja interakcij skupaj s številom *kudosov* najbolj sledi interakcija *bookmarks*. Povedali smo že, da to predstavlja število ljudi, ki so si delo tako ali drugače označili in shranili za poznejše branje.\n",
    "\n",
    "Čeprav je graf s števili obiskov dela (*hits*) malo bolj urejen kot graf števil komentarjev, sta oba precej razmetana. Sploh pri komentarjih se ne zdi, kot da bi sama priljubljenost kakorkoli vplivala na to število.\n",
    "\n",
    "Poleg interakcij pa je na teh grafnih dobro vidna zgostitev vseh pik v bližini koordinatnega izhodišča. To je posledica razporejenosti števila *kudosov*."
   ]
  },
  {
   "cell_type": "code",
   "execution_count": 368,
   "id": "49f9ec87",
   "metadata": {},
   "outputs": [],
   "source": [
    "kd=dela[['naslov','kudos']].copy()\n",
    "kd.drop(1, axis='index',inplace=True) # odstranimo All the Young Dudes\n",
    "kd['zaokroži']=kd.apply(lambda x: round(x['kudos'],-3), axis=1)\n",
    "kd=kd.value_counts('zaokroži').to_frame()\n"
   ]
  },
  {
   "cell_type": "code",
   "execution_count": 369,
   "id": "6c8501f3",
   "metadata": {},
   "outputs": [
    {
     "data": {
      "image/png": "[encoded data removed]",
      "text/plain": [
       "<Figure size 600x400 with 1 Axes>"
      ]
     },
     "metadata": {},
     "output_type": "display_data"
    }
   ],
   "source": [
    "plt.figure(figsize=(6,4))\n",
    "plt.scatter(kd.index, kd['count'], color='#023e9e')\n",
    "plt.xlabel('Kudosi')\n",
    "plt.ylabel('Število del')\n",
    "plt.show()"
   ]
  },
  {
   "cell_type": "markdown",
   "id": "a4995c4d",
   "metadata": {},
   "source": [
    "Kot lahko vidimo, so dela z več deset tisoč všečki (*kudosi*) dokaj redka, zaradi česar so podatki na zgornjih grafih bili zgoščeni predvsem v bližini koordinatnega izhodišča."
   ]
  },
  {
   "cell_type": "markdown",
   "id": "0afdd291",
   "metadata": {},
   "source": [
    "## Zaključne misli\n",
    "\n",
    "V projektni nalogi se je pokazalo nekaj ključnih ugotovitev o nastajanju krajših fiktivnih del s strani ljubiteljev raznih področij. Rezultati prvega dela analize nakazujejo na prevladovanje medijev, katerim smo dandanes kot družba bolj izpostavljeni - to so filmi in televizijske oddaje. Po drugi strani so kategorije, kot je na primer gledališče, dosti manj zastopane. Izkazalo se je tudi, da je navsezadnnje ogromno različnih področij, o katerih ljudje pišejo krajša dela in se tako povezujejo po celem svetu. Če ne kaj drugega, ta rezultat izkazuje kreativnost današnje družbe.\n",
    "\n",
    "Analiza fiktivnih del o Harryju Potterju je najprej pokazala doakj usklajeno rast popularnosti glede na mejnike same serije. Edina izjema je vnovični skok v popularnosti v času pandemije, ki je najverjetneje posledica takratnih okoliščin. Razen tega izgleda, da serija počasi a vztrajno izgublja popularnost med psici fiktivnih del, a glede na trenutno količino zabeleženih posodobitev v zadnjem letu, bo ta knjižna serija ostala na vrhu še kar nekaj časa.\n",
    "\n",
    "Kot vse kaže, pisanje krajših fiktivnih del oziroma *fanficov* še dolgo ne bo izumrlo. "
   ]
  }
 ],
 "metadata": {
  "kernelspec": {
   "display_name": "Python 3",
   "language": "python",
   "name": "python3"
  },
  "language_info": {
   "codemirror_mode": {
    "name": "ipython",
    "version": 3
   },
   "file_extension": ".py",
   "mimetype": "text/x-python",
   "name": "python",
   "nbconvert_exporter": "python",
   "pygments_lexer": "ipython3",
   "version": "3.13.2"
  }
 },
 "nbformat": 4,
 "nbformat_minor": 5
}
